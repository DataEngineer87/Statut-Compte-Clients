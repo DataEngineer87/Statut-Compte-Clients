{
 "cells": [
  {
   "cell_type": "code",
   "execution_count": 2,
   "id": "1888f577-b4d7-4e61-8985-5d442f007f0b",
   "metadata": {},
   "outputs": [],
   "source": [
    "import pandas as pd\n",
    "\n",
    "def target_encode_smooth(df, col, target, alpha=40):\n",
    "    df_copy = df[[col, target]].copy()\n",
    "    classes = df[target].unique()\n",
    "    global_probas = df[target].value_counts(normalize=True)\n",
    "    stats = df_copy.groupby(col)[target].value_counts().unstack().fillna(0)\n",
    "    totals = stats.sum(axis=1)\n",
    "    encoded = pd.DataFrame(index=df.index)\n",
    "\n",
    "    for cls in classes:\n",
    "        n_cy = stats[cls] if cls in stats.columns else 0\n",
    "        p_y = global_probas[cls]\n",
    "        smooth = (n_cy + alpha * p_y) / (totals + alpha)\n",
    "        encoded[f\"{col}_enc_{cls}\"] = df[col].map(smooth)\n",
    "\n",
    "    return encoded\n",
    "\n",
    "def encode_features(df, target_col='account_status', alpha=10):\n",
    "    df = df.copy()\n",
    "    dummy_cols = ['gender', 'marital_status', 'employment_status', \n",
    "                  'education_level', 'subscription_type', 'age_group']\n",
    "    \n",
    "    df_dummies = pd.get_dummies(df[dummy_cols], prefix=dummy_cols)\n",
    "    country_enc = target_encode_smooth(df, col='country', target=target_col, alpha=alpha)\n",
    "\n",
    "    numeric_cols = df.drop(columns=dummy_cols + ['country', target_col]).copy()\n",
    "    numeric_cols = numeric_cols.astype({col: 'float64' for col in numeric_cols.select_dtypes('int').columns})\n",
    "\n",
    "    final_df = pd.concat([df_dummies, country_enc, numeric_cols], axis=1)\n",
    "    final_df[target_col] = df[target_col]\n",
    "    return final_df"
   ]
  },
  {
   "cell_type": "code",
   "execution_count": null,
   "id": "91b9270f-ab4c-4e72-8c39-00539db085a3",
   "metadata": {},
   "outputs": [],
   "source": []
  }
 ],
 "metadata": {
  "kernelspec": {
   "display_name": "Python 3.13 (RAG)",
   "language": "python",
   "name": "rag_env"
  },
  "language_info": {
   "codemirror_mode": {
    "name": "ipython",
    "version": 3
   },
   "file_extension": ".py",
   "mimetype": "text/x-python",
   "name": "python",
   "nbconvert_exporter": "python",
   "pygments_lexer": "ipython3",
   "version": "3.13.7"
  }
 },
 "nbformat": 4,
 "nbformat_minor": 5
}
