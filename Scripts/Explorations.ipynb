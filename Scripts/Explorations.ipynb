{
 "cells": [
  {
   "cell_type": "markdown",
   "id": "0ed271d9",
   "metadata": {},
   "source": [
    "# Prédiction du Statut de Compte Client avec un Pipeline MLOps "
   ]
  },
  {
   "cell_type": "markdown",
   "id": "510b19f0",
   "metadata": {},
   "source": [
    "# Alseny\n",
    "## Data Scientist / Machine Learning Engineer"
   ]
  },
  {
   "cell_type": "markdown",
   "id": "48321e69",
   "metadata": {},
   "source": [
    "# Introduction\n",
    "\n",
    "Dans un contexte où la gestion proactive de la relation client est cruciale, ce projet a pour objectif de prédire automatiquement le statut d’un compte client (account_status) à partir de ses caractéristiques comportementales et démographiques. Grâce à une approche MLOps, ce projet intègre les meilleures pratiques de science des données, de déploiement et de surveillance des modèles en production.\n",
    "\n",
    "Ce projet permet de :\n",
    "\n",
    "Prédire en temps réel si un compte est actif, inactif, ou à risque\n",
    "\n",
    "Visualiser les performances du modèle et détecter les dérives\n",
    "\n",
    "Suivre les expériences via MLflow\n",
    "\n",
    "Fournir une API REST\n",
    "Automatiser le tout via GitHub Actions"
   ]
  },
  {
   "cell_type": "code",
   "execution_count": 1,
   "id": "fae6b107",
   "metadata": {},
   "outputs": [],
   "source": [
    "import pandas as pd\n",
    "import numpy as np\n",
    "import matplotlib.pyplot as plt # Bibliothèque de base pour la visualisation\n",
    "import seaborn as sns\n",
    "import plotly.express as px\n",
    "import joblib\n",
    "import mlflow\n",
    "import mlflow.sklearn\n",
    "from datetime import datetime\n",
    "from sklearn.preprocessing import FunctionTransformer\n",
    "from sklearn.pipeline import Pipeline\n",
    "from sklearn.ensemble import RandomForestClassifier\n",
    "from sklearn.model_selection import train_test_split\n",
    "from sklearn.metrics import classification_report\n",
    "#import Utils"
   ]
  },
  {
   "cell_type": "code",
   "execution_count": 2,
   "id": "db1694c8-6124-4c8c-81a1-3c0a7299d08c",
   "metadata": {},
   "outputs": [],
   "source": [
    "pd.set_option('display.max_rows', None)\n",
    "pd.set_option('display.max_columns',None)"
   ]
  },
  {
   "cell_type": "markdown",
   "id": "fbd1e4ca-c94c-46fa-a46f-edc345768ffd",
   "metadata": {},
   "source": [
    "# Importation du dataset"
   ]
  },
  {
   "cell_type": "code",
   "execution_count": 3,
   "id": "52c5cdec",
   "metadata": {},
   "outputs": [
    {
     "name": "stdout",
     "output_type": "stream",
     "text": [
      "(1000000, 20)\n"
     ]
    },
    {
     "data": {
      "text/html": [
       "<div>\n",
       "<style scoped>\n",
       "    .dataframe tbody tr th:only-of-type {\n",
       "        vertical-align: middle;\n",
       "    }\n",
       "\n",
       "    .dataframe tbody tr th {\n",
       "        vertical-align: top;\n",
       "    }\n",
       "\n",
       "    .dataframe thead th {\n",
       "        text-align: right;\n",
       "    }\n",
       "</style>\n",
       "<table border=\"1\" class=\"dataframe\">\n",
       "  <thead>\n",
       "    <tr style=\"text-align: right;\">\n",
       "      <th></th>\n",
       "      <th>customer_id</th>\n",
       "      <th>first_name</th>\n",
       "      <th>last_name</th>\n",
       "      <th>gender</th>\n",
       "      <th>birth_date</th>\n",
       "      <th>marital_status</th>\n",
       "      <th>employment_status</th>\n",
       "      <th>education_level</th>\n",
       "      <th>job_title</th>\n",
       "      <th>annual_income</th>\n",
       "      <th>number_of_children</th>\n",
       "      <th>email</th>\n",
       "      <th>phone_number</th>\n",
       "      <th>address</th>\n",
       "      <th>city</th>\n",
       "      <th>state</th>\n",
       "      <th>zip_code</th>\n",
       "      <th>country</th>\n",
       "      <th>account_status</th>\n",
       "      <th>subscription_type</th>\n",
       "    </tr>\n",
       "  </thead>\n",
       "  <tbody>\n",
       "    <tr>\n",
       "      <th>0</th>\n",
       "      <td>124c274f-9b56-46b5-845e-37eb61edef16</td>\n",
       "      <td>Jacob</td>\n",
       "      <td>Snyder</td>\n",
       "      <td>Female</td>\n",
       "      <td>1996-08-06</td>\n",
       "      <td>Single</td>\n",
       "      <td>Unemployed</td>\n",
       "      <td>Other</td>\n",
       "      <td>Data scientist</td>\n",
       "      <td>94321.32</td>\n",
       "      <td>1</td>\n",
       "      <td>phamchristopher@example.net</td>\n",
       "      <td>+1-454-214-4238x10683</td>\n",
       "      <td>746 Pacheco Parks, West Joshuatown, ME 32351</td>\n",
       "      <td>Sanchezview</td>\n",
       "      <td>Iowa</td>\n",
       "      <td>73895.0</td>\n",
       "      <td>Zambia</td>\n",
       "      <td>Inactive</td>\n",
       "      <td>Free</td>\n",
       "    </tr>\n",
       "    <tr>\n",
       "      <th>1</th>\n",
       "      <td>26a3aac2-0c11-4c97-83f9-4fbfebba4e8f</td>\n",
       "      <td>Melanie</td>\n",
       "      <td>Barnes</td>\n",
       "      <td>Male</td>\n",
       "      <td>1960-07-15</td>\n",
       "      <td>Widowed</td>\n",
       "      <td>NaN</td>\n",
       "      <td>PhD</td>\n",
       "      <td>Psychologist, prison and probation services</td>\n",
       "      <td>187455.93</td>\n",
       "      <td>4</td>\n",
       "      <td>amiles@example.net</td>\n",
       "      <td>528-316-8290x7168</td>\n",
       "      <td>98084 Jessica Street Suite 063, Rubiofort, CO ...</td>\n",
       "      <td>Lake Joseside</td>\n",
       "      <td>Mississippi</td>\n",
       "      <td>51816.0</td>\n",
       "      <td>Greenland</td>\n",
       "      <td>Suspended</td>\n",
       "      <td>Free</td>\n",
       "    </tr>\n",
       "    <tr>\n",
       "      <th>2</th>\n",
       "      <td>87fbb281-1327-4231-bf8a-7278487962be</td>\n",
       "      <td>Robert</td>\n",
       "      <td>Randall</td>\n",
       "      <td>Other</td>\n",
       "      <td>1964-02-03</td>\n",
       "      <td>Single</td>\n",
       "      <td>Unemployed</td>\n",
       "      <td>PhD</td>\n",
       "      <td>Chief Technology Officer</td>\n",
       "      <td>85946.69</td>\n",
       "      <td>2</td>\n",
       "      <td>charlotterocha@example.com</td>\n",
       "      <td>001-924-794-0179</td>\n",
       "      <td>6383 Murphy Bridge Apt. 545, Luisborough, VA 0...</td>\n",
       "      <td>Lake Adamhaven</td>\n",
       "      <td>Virginia</td>\n",
       "      <td>81666.0</td>\n",
       "      <td>Greece</td>\n",
       "      <td>Active</td>\n",
       "      <td>Basic</td>\n",
       "    </tr>\n",
       "    <tr>\n",
       "      <th>3</th>\n",
       "      <td>9e9d413d-2b08-4650-9adc-107ae095b49b</td>\n",
       "      <td>NaN</td>\n",
       "      <td>NaN</td>\n",
       "      <td>Other</td>\n",
       "      <td>1947-01-07</td>\n",
       "      <td>Married</td>\n",
       "      <td>Employed</td>\n",
       "      <td>Bachelor</td>\n",
       "      <td>Systems developer</td>\n",
       "      <td>111074.34</td>\n",
       "      <td>0</td>\n",
       "      <td>fallen@example.org</td>\n",
       "      <td>001-867-358-4691x06683</td>\n",
       "      <td>9319 Castillo Corners, Brittanyport, MI 77082</td>\n",
       "      <td>Port Shannonhaven</td>\n",
       "      <td>Rhode Island</td>\n",
       "      <td>87917.0</td>\n",
       "      <td>Burkina Faso</td>\n",
       "      <td>Inactive</td>\n",
       "      <td>Premium</td>\n",
       "    </tr>\n",
       "    <tr>\n",
       "      <th>4</th>\n",
       "      <td>17bce622-f80e-4515-ade1-249f1d093c7e</td>\n",
       "      <td>Shaun</td>\n",
       "      <td>Collins</td>\n",
       "      <td>Female</td>\n",
       "      <td>1962-03-02</td>\n",
       "      <td>Married</td>\n",
       "      <td>Employed</td>\n",
       "      <td>Master</td>\n",
       "      <td>Surveyor, building control</td>\n",
       "      <td>131036.67</td>\n",
       "      <td>1</td>\n",
       "      <td>ucrawford@example.com</td>\n",
       "      <td>(372)383-7859x649</td>\n",
       "      <td>806 James Lane Suite 928, North Joshuastad, OH...</td>\n",
       "      <td>New Mariatown</td>\n",
       "      <td>Pennsylvania</td>\n",
       "      <td>36690.0</td>\n",
       "      <td>Slovenia</td>\n",
       "      <td>Active</td>\n",
       "      <td>Basic</td>\n",
       "    </tr>\n",
       "  </tbody>\n",
       "</table>\n",
       "</div>"
      ],
      "text/plain": [
       "                            customer_id first_name last_name  gender  \\\n",
       "0  124c274f-9b56-46b5-845e-37eb61edef16      Jacob    Snyder  Female   \n",
       "1  26a3aac2-0c11-4c97-83f9-4fbfebba4e8f    Melanie    Barnes    Male   \n",
       "2  87fbb281-1327-4231-bf8a-7278487962be     Robert   Randall   Other   \n",
       "3  9e9d413d-2b08-4650-9adc-107ae095b49b        NaN       NaN   Other   \n",
       "4  17bce622-f80e-4515-ade1-249f1d093c7e      Shaun   Collins  Female   \n",
       "\n",
       "   birth_date marital_status employment_status education_level  \\\n",
       "0  1996-08-06         Single        Unemployed           Other   \n",
       "1  1960-07-15        Widowed               NaN             PhD   \n",
       "2  1964-02-03         Single        Unemployed             PhD   \n",
       "3  1947-01-07        Married          Employed        Bachelor   \n",
       "4  1962-03-02        Married          Employed          Master   \n",
       "\n",
       "                                     job_title  annual_income  \\\n",
       "0                               Data scientist       94321.32   \n",
       "1  Psychologist, prison and probation services      187455.93   \n",
       "2                     Chief Technology Officer       85946.69   \n",
       "3                            Systems developer      111074.34   \n",
       "4                   Surveyor, building control      131036.67   \n",
       "\n",
       "   number_of_children                        email            phone_number  \\\n",
       "0                   1  phamchristopher@example.net   +1-454-214-4238x10683   \n",
       "1                   4           amiles@example.net       528-316-8290x7168   \n",
       "2                   2   charlotterocha@example.com        001-924-794-0179   \n",
       "3                   0           fallen@example.org  001-867-358-4691x06683   \n",
       "4                   1        ucrawford@example.com       (372)383-7859x649   \n",
       "\n",
       "                                             address               city  \\\n",
       "0       746 Pacheco Parks, West Joshuatown, ME 32351        Sanchezview   \n",
       "1  98084 Jessica Street Suite 063, Rubiofort, CO ...      Lake Joseside   \n",
       "2  6383 Murphy Bridge Apt. 545, Luisborough, VA 0...     Lake Adamhaven   \n",
       "3      9319 Castillo Corners, Brittanyport, MI 77082  Port Shannonhaven   \n",
       "4  806 James Lane Suite 928, North Joshuastad, OH...      New Mariatown   \n",
       "\n",
       "          state  zip_code       country account_status subscription_type  \n",
       "0          Iowa   73895.0        Zambia       Inactive              Free  \n",
       "1   Mississippi   51816.0     Greenland      Suspended              Free  \n",
       "2      Virginia   81666.0        Greece         Active             Basic  \n",
       "3  Rhode Island   87917.0  Burkina Faso       Inactive           Premium  \n",
       "4  Pennsylvania   36690.0      Slovenia         Active             Basic  "
      ]
     },
     "execution_count": 3,
     "metadata": {},
     "output_type": "execute_result"
    }
   ],
   "source": [
    "CustomerData = pd.read_csv(\"/home/sacko/Documents/PredictionStatutCompte/Donnees/customer_data.csv\")\n",
    "print(CustomerData.shape)\n",
    "CustomerData.head() # - Affichage des premières lignes du jeu de données pour visualiser rapidement la structure et les premières valeurs."
   ]
  },
  {
   "cell_type": "markdown",
   "id": "50f3e137-4bd5-4e31-858f-3690a56365f7",
   "metadata": {},
   "source": [
    "Variable dérivée\tUtile ?\tPourquoi ?\n",
    "\n",
    "✅ age_group\tOui\tPermet de capturer des comportements selon l’âge\n",
    "\n",
    "✅ children_per_age\tOui\tReprésente une charge familiale pondérée\n",
    "\n",
    "✅ is_married\tOui\tLe statut marital peut influencer la fidélité\n",
    "\n",
    "✅ education_group\tOui\tSimplifie une variable souvent trop granulaire\n",
    "\n",
    "✅ income_group\tOui\tMieux que le revenu brut ou log pour classifier\n",
    "\n",
    "✅ is_employed_stable\tOui\tLa stabilité peut affecter la propension à rester\n",
    "⚠"
   ]
  },
  {
   "cell_type": "markdown",
   "id": "6837317f-6d54-4683-8cfe-efb7af304377",
   "metadata": {},
   "source": [
    "# Pré-nettoyage"
   ]
  },
  {
   "cell_type": "code",
   "execution_count": 4,
   "id": "c6a28db2-172a-457d-9ef5-cdc2450200bb",
   "metadata": {},
   "outputs": [],
   "source": [
    "# Création d'une copie des données clients\n",
    "df_customer = CustomerData.copy()"
   ]
  },
  {
   "cell_type": "code",
   "execution_count": 5,
   "id": "899fd490-7776-4b04-ac1b-38d949e0903c",
   "metadata": {},
   "outputs": [
    {
     "data": {
      "text/plain": [
       "Index(['customer_id', 'first_name', 'last_name', 'gender', 'marital_status',\n",
       "       'employment_status', 'education_level', 'job_title', 'annual_income',\n",
       "       'number_of_children', 'email', 'phone_number', 'address', 'city',\n",
       "       'state', 'zip_code', 'country', 'account_status', 'subscription_type',\n",
       "       'age'],\n",
       "      dtype='object')"
      ]
     },
     "execution_count": 5,
     "metadata": {},
     "output_type": "execute_result"
    }
   ],
   "source": [
    "# Fonction pour convertir birth_date en âge\n",
    "def birth_date_to_age(X):\n",
    "    today = pd.to_datetime('today')\n",
    "    df_customer['age'] = pd.to_datetime(df_customer['birth_date']).apply(\n",
    "        lambda x: today.year - x.year - ((today.month, today.day) < (x.month, x.day))\n",
    "    )\n",
    "    return df_customer.drop(columns=['birth_date'])\n",
    "\n",
    "# Pipeline avec FunctionTransformer\n",
    "age_pipeline = Pipeline([\n",
    "    ('birth_to_age', FunctionTransformer(birth_date_to_age))\n",
    "])\n",
    "\n",
    "df_customer = birth_date_to_age(df_customer)\n",
    "\n",
    "df_customer.columns"
   ]
  },
  {
   "cell_type": "code",
   "execution_count": 6,
   "id": "45d686cb-8b05-4f7f-808f-50fcba90f693",
   "metadata": {},
   "outputs": [
    {
     "data": {
      "text/plain": [
       "marital_status\n",
       "Widowed     245160\n",
       "Divorced    245076\n",
       "Single      245030\n",
       "Married     244800\n",
       "Name: count, dtype: int64"
      ]
     },
     "execution_count": 6,
     "metadata": {},
     "output_type": "execute_result"
    }
   ],
   "source": [
    "df_customer.marital_status.value_counts()"
   ]
  },
  {
   "cell_type": "code",
   "execution_count": 7,
   "id": "e24658be-512a-483d-a205-cf2f49558b97",
   "metadata": {},
   "outputs": [
    {
     "data": {
      "text/html": [
       "<div>\n",
       "<style scoped>\n",
       "    .dataframe tbody tr th:only-of-type {\n",
       "        vertical-align: middle;\n",
       "    }\n",
       "\n",
       "    .dataframe tbody tr th {\n",
       "        vertical-align: top;\n",
       "    }\n",
       "\n",
       "    .dataframe thead th {\n",
       "        text-align: right;\n",
       "    }\n",
       "</style>\n",
       "<table border=\"1\" class=\"dataframe\">\n",
       "  <thead>\n",
       "    <tr style=\"text-align: right;\">\n",
       "      <th></th>\n",
       "      <th>account_status</th>\n",
       "      <th>gender</th>\n",
       "      <th>age</th>\n",
       "      <th>marital_status</th>\n",
       "      <th>employment_status</th>\n",
       "      <th>education_level</th>\n",
       "      <th>annual_income</th>\n",
       "      <th>number_of_children</th>\n",
       "      <th>country</th>\n",
       "      <th>subscription_type</th>\n",
       "    </tr>\n",
       "  </thead>\n",
       "  <tbody>\n",
       "    <tr>\n",
       "      <th>0</th>\n",
       "      <td>Inactive</td>\n",
       "      <td>Female</td>\n",
       "      <td>29.0</td>\n",
       "      <td>Single</td>\n",
       "      <td>Unemployed</td>\n",
       "      <td>Other</td>\n",
       "      <td>94321.32</td>\n",
       "      <td>1</td>\n",
       "      <td>Zambia</td>\n",
       "      <td>Free</td>\n",
       "    </tr>\n",
       "    <tr>\n",
       "      <th>1</th>\n",
       "      <td>Suspended</td>\n",
       "      <td>Male</td>\n",
       "      <td>65.0</td>\n",
       "      <td>Widowed</td>\n",
       "      <td>NaN</td>\n",
       "      <td>PhD</td>\n",
       "      <td>187455.93</td>\n",
       "      <td>4</td>\n",
       "      <td>Greenland</td>\n",
       "      <td>Free</td>\n",
       "    </tr>\n",
       "    <tr>\n",
       "      <th>2</th>\n",
       "      <td>Active</td>\n",
       "      <td>Other</td>\n",
       "      <td>61.0</td>\n",
       "      <td>Single</td>\n",
       "      <td>Unemployed</td>\n",
       "      <td>PhD</td>\n",
       "      <td>85946.69</td>\n",
       "      <td>2</td>\n",
       "      <td>Greece</td>\n",
       "      <td>Basic</td>\n",
       "    </tr>\n",
       "    <tr>\n",
       "      <th>3</th>\n",
       "      <td>Inactive</td>\n",
       "      <td>Other</td>\n",
       "      <td>78.0</td>\n",
       "      <td>Married</td>\n",
       "      <td>Employed</td>\n",
       "      <td>Bachelor</td>\n",
       "      <td>111074.34</td>\n",
       "      <td>0</td>\n",
       "      <td>Burkina Faso</td>\n",
       "      <td>Premium</td>\n",
       "    </tr>\n",
       "    <tr>\n",
       "      <th>4</th>\n",
       "      <td>Active</td>\n",
       "      <td>Female</td>\n",
       "      <td>63.0</td>\n",
       "      <td>Married</td>\n",
       "      <td>Employed</td>\n",
       "      <td>Master</td>\n",
       "      <td>131036.67</td>\n",
       "      <td>1</td>\n",
       "      <td>Slovenia</td>\n",
       "      <td>Basic</td>\n",
       "    </tr>\n",
       "  </tbody>\n",
       "</table>\n",
       "</div>"
      ],
      "text/plain": [
       "  account_status  gender   age marital_status employment_status  \\\n",
       "0       Inactive  Female  29.0         Single        Unemployed   \n",
       "1      Suspended    Male  65.0        Widowed               NaN   \n",
       "2         Active   Other  61.0         Single        Unemployed   \n",
       "3       Inactive   Other  78.0        Married          Employed   \n",
       "4         Active  Female  63.0        Married          Employed   \n",
       "\n",
       "  education_level  annual_income  number_of_children       country  \\\n",
       "0           Other       94321.32                   1        Zambia   \n",
       "1             PhD      187455.93                   4     Greenland   \n",
       "2             PhD       85946.69                   2        Greece   \n",
       "3        Bachelor      111074.34                   0  Burkina Faso   \n",
       "4          Master      131036.67                   1      Slovenia   \n",
       "\n",
       "  subscription_type  \n",
       "0              Free  \n",
       "1              Free  \n",
       "2             Basic  \n",
       "3           Premium  \n",
       "4             Basic  "
      ]
     },
     "execution_count": 7,
     "metadata": {},
     "output_type": "execute_result"
    }
   ],
   "source": [
    "# Filtrage des variables\n",
    "selected_features = [\n",
    "    'account_status',\n",
    "    'gender',\n",
    "    'age',         # à transformer en âge\n",
    "    'marital_status',\n",
    "    'employment_status',\n",
    "    'education_level',\n",
    "    #'job_title',            # à transformer ou regrouper\n",
    "    'annual_income',\n",
    "    'number_of_children',\n",
    "    #'city',\n",
    "    #'state',\n",
    "    'country',\n",
    "    'subscription_type'\n",
    "]\n",
    "\n",
    "df_customer = df_customer[selected_features]\n",
    "df_customer.head()"
   ]
  },
  {
   "cell_type": "markdown",
   "id": "967eab3c-a7a8-486a-b4ff-8bdc53f218db",
   "metadata": {},
   "source": [
    "# Exploration (exploratory data analysis - EDA)"
   ]
  },
  {
   "cell_type": "markdown",
   "id": "6c13259b-e560-4869-845a-de5f44bc55f9",
   "metadata": {},
   "source": [
    "- Résumé du DataFrame (types de variables, nombre de valeurs non nulles, mémoire utilisée)\n",
    "- Analyse de la variable cible\n",
    "- Indicateurs statistiques (moyenne, écart-type, min, max, quartiles, mode) pour les colonnes.\n",
    "- Évaluation de la qualité des données (compter le nombre de valeurs manquantes par colonne, indication du nombre de valeurs distinctes pour chaque colonne, utile pour repérer les variables constantes ou à forte cardinalité, affichage de la fréquence des différentes modalités des variables catégorielles).\n",
    "- Détection des types de variables\n",
    "- Recherche de doublons\n",
    "- Vérification de la distribution marginale des variables\n",
    "- Identification des valeurs abérantes et extrêmes\n",
    "- Repartition des données en data_train et data_test\n",
    "- Vérification que le train test split conserve les bonnes proportions des données"
   ]
  },
  {
   "cell_type": "markdown",
   "id": "52543d5a-405b-42a8-9a76-6e69a98beee1",
   "metadata": {},
   "source": [
    "## Résumé du DataFrame"
   ]
  },
  {
   "cell_type": "code",
   "execution_count": 8,
   "id": "889c8357-bd90-4793-ba67-f7c6e38c7c1f",
   "metadata": {},
   "outputs": [
    {
     "name": "stdout",
     "output_type": "stream",
     "text": [
      "<class 'pandas.core.frame.DataFrame'>\n",
      "RangeIndex: 1000000 entries, 0 to 999999\n",
      "Data columns (total 10 columns):\n",
      " #   Column              Non-Null Count    Dtype  \n",
      "---  ------              --------------    -----  \n",
      " 0   account_status      980033 non-null   object \n",
      " 1   gender              979999 non-null   object \n",
      " 2   age                 980158 non-null   float64\n",
      " 3   marital_status      980066 non-null   object \n",
      " 4   employment_status   979988 non-null   object \n",
      " 5   education_level     980156 non-null   object \n",
      " 6   annual_income       1000000 non-null  float64\n",
      " 7   number_of_children  1000000 non-null  int64  \n",
      " 8   country             980011 non-null   object \n",
      " 9   subscription_type   979800 non-null   object \n",
      "dtypes: float64(2), int64(1), object(7)\n",
      "memory usage: 76.3+ MB\n"
     ]
    }
   ],
   "source": [
    "df_customer.info()"
   ]
  },
  {
   "cell_type": "markdown",
   "id": "50bec9cd-fe66-4b63-9005-0e377aafad4b",
   "metadata": {},
   "source": [
    "## Identification de la nature des variables"
   ]
  },
  {
   "cell_type": "code",
   "execution_count": 9,
   "id": "f6a069ce-6d68-4f90-b73b-79d316f2614a",
   "metadata": {},
   "outputs": [
    {
     "name": "stdout",
     "output_type": "stream",
     "text": [
      "Les variables quantitatives:\n",
      " Index(['age', 'annual_income', 'number_of_children'], dtype='object')\n",
      "Nombre de variables quantitatives : 3\n",
      "\n",
      "Les variables qualitatives:\n",
      " Index(['account_status', 'gender', 'marital_status', 'employment_status',\n",
      "       'education_level', 'country', 'subscription_type'],\n",
      "      dtype='object')\n",
      "Nombre de variables qualitatives : 7\n"
     ]
    }
   ],
   "source": [
    "# Fonction d'identification de la nature des variables\n",
    "\n",
    "def compter_variables(dataset):\n",
    "    \"\"\"Affiche et compte les variables quantitatives et qualitatives d'un dataset.\n",
    "\n",
    "    Parameters:\n",
    "    dataset (pandas.DataFrame): Le DataFrame contenant les variables à analyser.\n",
    "\n",
    "    \"\"\"\n",
    "    # Sélection des colonnes quantitatives (numériques) et qualitatives (non numériques)\n",
    "    quantitatives = dataset.select_dtypes(include=['number']).columns\n",
    "    qualitatives = dataset.select_dtypes(exclude=['number']).columns\n",
    "\n",
    "    # Affichage des colonnes quantitatives et de leur nombre\n",
    "    print(\"Les variables quantitatives:\\n\", quantitatives)\n",
    "    print(f\"Nombre de variables quantitatives : {len(quantitatives)}\\n\")\n",
    "\n",
    "    # Affichage des colonnes qualitatives et de leur nombre\n",
    "    print(\"Les variables qualitatives:\\n\", qualitatives)\n",
    "    print(f\"Nombre de variables qualitatives : {len(qualitatives)}\")\n",
    "    \n",
    "\n",
    "#  Appel de la fonction\n",
    "compter_variables(df_customer)"
   ]
  },
  {
   "cell_type": "markdown",
   "id": "ad9a4fd9-5c2e-41ca-a8dc-04d9f4e075d9",
   "metadata": {},
   "source": [
    "## Identification des lignes dupliquées dans le DataFrame"
   ]
  },
  {
   "cell_type": "code",
   "execution_count": 10,
   "id": "21532c41-236d-43e7-82cc-3184f07f2b80",
   "metadata": {},
   "outputs": [
    {
     "name": "stdout",
     "output_type": "stream",
     "text": [
      "Total de lignes dupliquées dans le DataFrame : 0\n",
      "Colonnes contenant des valeurs dupliquées : ['account_status', 'gender', 'age', 'marital_status', 'employment_status', 'education_level', 'annual_income', 'number_of_children', 'country', 'subscription_type']\n"
     ]
    },
    {
     "data": {
      "text/plain": [
       "{'total_duplicated_rows': np.int64(0),\n",
       " 'duplicated_columns': ['account_status',\n",
       "  'gender',\n",
       "  'age',\n",
       "  'marital_status',\n",
       "  'employment_status',\n",
       "  'education_level',\n",
       "  'annual_income',\n",
       "  'number_of_children',\n",
       "  'country',\n",
       "  'subscription_type']}"
      ]
     },
     "execution_count": 10,
     "metadata": {},
     "output_type": "execute_result"
    }
   ],
   "source": [
    "# Identification des lignes dupliquées dans le DataFrame\n",
    "\n",
    "def duplicated_values_summary(df):\n",
    "    # Calcul de la somme totale des lignes dupliquées\n",
    "    total_duplicated_rows = df.duplicated().sum()\n",
    "\n",
    "    # Identification des colonnes contenant des valeurs dupliquées\n",
    "    duplicated_columns = [col for col in df.columns if df[col].duplicated().any()]\n",
    "\n",
    "    # Affichage des résultats\n",
    "    print(\"Total de lignes dupliquées dans le DataFrame :\", total_duplicated_rows)\n",
    "    print(\"Colonnes contenant des valeurs dupliquées :\", duplicated_columns)\n",
    "\n",
    "    return {\"total_duplicated_rows\": total_duplicated_rows, \"duplicated_columns\": duplicated_columns}\n",
    "\n",
    "\n",
    "\n",
    "duplicated_values_summary(df_customer) # Appel de la fonction"
   ]
  },
  {
   "cell_type": "markdown",
   "id": "743c4c37-5530-4aa0-a5f7-92dd398e6241",
   "metadata": {},
   "source": [
    "## Alyser de la cible account_status\n",
    "Vérifie s’il s’agit d’un problème de classification binaire ou multi-classes :"
   ]
  },
  {
   "cell_type": "code",
   "execution_count": 11,
   "id": "b424f592-7b71-4e3f-bd76-3c44b4c48d3c",
   "metadata": {},
   "outputs": [
    {
     "name": "stdout",
     "output_type": "stream",
     "text": [
      "account_status\n",
      "Suspended    326915\n",
      "Active       326753\n",
      "Inactive     326365\n",
      "Name: count, dtype: int64\n"
     ]
    }
   ],
   "source": [
    "print(df_customer[\"account_status\"].value_counts())"
   ]
  },
  {
   "cell_type": "code",
   "execution_count": 12,
   "id": "5e8798a8-f040-4ff3-83eb-01d8996afda2",
   "metadata": {},
   "outputs": [
    {
     "data": {
      "text/plain": [
       "<Axes: ylabel='proportion'>"
      ]
     },
     "execution_count": 12,
     "metadata": {},
     "output_type": "execute_result"
    },
    {
     "data": {
      "image/png": "[encoded data removed]",
      "text/plain": [
       "<Figure size 600x600 with 1 Axes>"
      ]
     },
     "metadata": {},
     "output_type": "display_data"
    }
   ],
   "source": [
    "df_customer['account_status'].value_counts(normalize=True).plot.pie(autopct='%1.1f%%', figsize=(6, 6))"
   ]
  },
  {
   "cell_type": "markdown",
   "id": "45b3c087-c7e4-4087-89c8-f872c0270add",
   "metadata": {},
   "source": [
    "## Indicateurs statistiques"
   ]
  },
  {
   "cell_type": "code",
   "execution_count": 13,
   "id": "f7c90edb-63eb-4fce-8c4f-96dd4438a067",
   "metadata": {},
   "outputs": [
    {
     "data": {
      "text/html": [
       "<div>\n",
       "<style scoped>\n",
       "    .dataframe tbody tr th:only-of-type {\n",
       "        vertical-align: middle;\n",
       "    }\n",
       "\n",
       "    .dataframe tbody tr th {\n",
       "        vertical-align: top;\n",
       "    }\n",
       "\n",
       "    .dataframe thead th {\n",
       "        text-align: right;\n",
       "    }\n",
       "</style>\n",
       "<table border=\"1\" class=\"dataframe\">\n",
       "  <thead>\n",
       "    <tr style=\"text-align: right;\">\n",
       "      <th></th>\n",
       "      <th>age</th>\n",
       "      <th>annual_income</th>\n",
       "      <th>number_of_children</th>\n",
       "    </tr>\n",
       "  </thead>\n",
       "  <tbody>\n",
       "    <tr>\n",
       "      <th>count</th>\n",
       "      <td>980158.000000</td>\n",
       "      <td>1.000000e+06</td>\n",
       "      <td>1000000.000000</td>\n",
       "    </tr>\n",
       "    <tr>\n",
       "      <th>mean</th>\n",
       "      <td>54.388419</td>\n",
       "      <td>1.176114e+06</td>\n",
       "      <td>2.420123</td>\n",
       "    </tr>\n",
       "    <tr>\n",
       "      <th>std</th>\n",
       "      <td>21.082550</td>\n",
       "      <td>1.191776e+07</td>\n",
       "      <td>1.895068</td>\n",
       "    </tr>\n",
       "    <tr>\n",
       "      <th>min</th>\n",
       "      <td>18.000000</td>\n",
       "      <td>1.500005e+04</td>\n",
       "      <td>-10.000000</td>\n",
       "    </tr>\n",
       "    <tr>\n",
       "      <th>25%</th>\n",
       "      <td>36.000000</td>\n",
       "      <td>6.168157e+04</td>\n",
       "      <td>1.000000</td>\n",
       "    </tr>\n",
       "    <tr>\n",
       "      <th>50%</th>\n",
       "      <td>54.000000</td>\n",
       "      <td>1.083261e+05</td>\n",
       "      <td>2.000000</td>\n",
       "    </tr>\n",
       "    <tr>\n",
       "      <th>75%</th>\n",
       "      <td>73.000000</td>\n",
       "      <td>1.550781e+05</td>\n",
       "      <td>4.000000</td>\n",
       "    </tr>\n",
       "    <tr>\n",
       "      <th>max</th>\n",
       "      <td>91.000000</td>\n",
       "      <td>1.999883e+08</td>\n",
       "      <td>5.000000</td>\n",
       "    </tr>\n",
       "  </tbody>\n",
       "</table>\n",
       "</div>"
      ],
      "text/plain": [
       "                 age  annual_income  number_of_children\n",
       "count  980158.000000   1.000000e+06      1000000.000000\n",
       "mean       54.388419   1.176114e+06            2.420123\n",
       "std        21.082550   1.191776e+07            1.895068\n",
       "min        18.000000   1.500005e+04          -10.000000\n",
       "25%        36.000000   6.168157e+04            1.000000\n",
       "50%        54.000000   1.083261e+05            2.000000\n",
       "75%        73.000000   1.550781e+05            4.000000\n",
       "max        91.000000   1.999883e+08            5.000000"
      ]
     },
     "execution_count": 13,
     "metadata": {},
     "output_type": "execute_result"
    }
   ],
   "source": [
    "# Affichage des statistiques descriptives pour toutes les colonnes numériques,\n",
    "df_customer.describe()"
   ]
  },
  {
   "cell_type": "code",
   "execution_count": 14,
   "id": "216497ae-2841-4788-b9b5-c676a00d2fb8",
   "metadata": {},
   "outputs": [
    {
     "data": {
      "text/html": [
       "<div>\n",
       "<style scoped>\n",
       "    .dataframe tbody tr th:only-of-type {\n",
       "        vertical-align: middle;\n",
       "    }\n",
       "\n",
       "    .dataframe tbody tr th {\n",
       "        vertical-align: top;\n",
       "    }\n",
       "\n",
       "    .dataframe thead th {\n",
       "        text-align: right;\n",
       "    }\n",
       "</style>\n",
       "<table border=\"1\" class=\"dataframe\">\n",
       "  <thead>\n",
       "    <tr style=\"text-align: right;\">\n",
       "      <th></th>\n",
       "      <th>account_status</th>\n",
       "      <th>gender</th>\n",
       "      <th>marital_status</th>\n",
       "      <th>employment_status</th>\n",
       "      <th>education_level</th>\n",
       "      <th>country</th>\n",
       "      <th>subscription_type</th>\n",
       "    </tr>\n",
       "  </thead>\n",
       "  <tbody>\n",
       "    <tr>\n",
       "      <th>count</th>\n",
       "      <td>980033</td>\n",
       "      <td>979999</td>\n",
       "      <td>980066</td>\n",
       "      <td>979988</td>\n",
       "      <td>980156</td>\n",
       "      <td>980011</td>\n",
       "      <td>979800</td>\n",
       "    </tr>\n",
       "    <tr>\n",
       "      <th>unique</th>\n",
       "      <td>3</td>\n",
       "      <td>3</td>\n",
       "      <td>4</td>\n",
       "      <td>5</td>\n",
       "      <td>5</td>\n",
       "      <td>243</td>\n",
       "      <td>4</td>\n",
       "    </tr>\n",
       "    <tr>\n",
       "      <th>top</th>\n",
       "      <td>Suspended</td>\n",
       "      <td>Female</td>\n",
       "      <td>Widowed</td>\n",
       "      <td>Self-employed</td>\n",
       "      <td>Bachelor</td>\n",
       "      <td>Korea</td>\n",
       "      <td>Basic</td>\n",
       "    </tr>\n",
       "    <tr>\n",
       "      <th>freq</th>\n",
       "      <td>326915</td>\n",
       "      <td>326808</td>\n",
       "      <td>245160</td>\n",
       "      <td>196243</td>\n",
       "      <td>196885</td>\n",
       "      <td>7993</td>\n",
       "      <td>245421</td>\n",
       "    </tr>\n",
       "  </tbody>\n",
       "</table>\n",
       "</div>"
      ],
      "text/plain": [
       "       account_status  gender marital_status employment_status  \\\n",
       "count          980033  979999         980066            979988   \n",
       "unique              3       3              4                 5   \n",
       "top         Suspended  Female        Widowed     Self-employed   \n",
       "freq           326915  326808         245160            196243   \n",
       "\n",
       "       education_level country subscription_type  \n",
       "count           980156  980011            979800  \n",
       "unique               5     243                 4  \n",
       "top           Bachelor   Korea             Basic  \n",
       "freq            196885    7993            245421  "
      ]
     },
     "execution_count": 14,
     "metadata": {},
     "output_type": "execute_result"
    }
   ],
   "source": [
    "# Affichage des statistiques descriptives pour toutes les colonnes catégorielles, y compris les catégorielles\n",
    "df_customer.describe(include=\"O\")"
   ]
  },
  {
   "cell_type": "markdown",
   "id": "bd9979cb-fc19-4ef0-a7e2-fa0f94920885",
   "metadata": {},
   "source": [
    "## Analyse des valeurs manquantes"
   ]
  },
  {
   "cell_type": "code",
   "execution_count": 15,
   "id": "85043f25-bafd-4c5c-8ad0-68a95c795954",
   "metadata": {},
   "outputs": [
    {
     "data": {
      "text/plain": [
       "np.int64(159789)"
      ]
     },
     "execution_count": 15,
     "metadata": {},
     "output_type": "execute_result"
    }
   ],
   "source": [
    "# Totale de valeurs manquantes dans le data frame\n",
    "df_customer.isna().sum().sum()"
   ]
  },
  {
   "cell_type": "code",
   "execution_count": 16,
   "id": "5685a233-6407-4af2-89af-0cd6d5b0bbd3",
   "metadata": {},
   "outputs": [
    {
     "name": "stdout",
     "output_type": "stream",
     "text": [
      "Le jeu de données est rempli à 98.40%\n",
      "Il a 1.60% de données manquantes\n",
      "\n",
      "\n"
     ]
    },
    {
     "data": {
      "image/png": "[encoded data removed]",
      "text/plain": [
       "<Figure size 800x1000 with 1 Axes>"
      ]
     },
     "metadata": {},
     "output_type": "display_data"
    }
   ],
   "source": [
    "# Comptage du taux de données manquantes dans le DataFrame\n",
    "\n",
    "def pie_nan(dataframe):\n",
    "    \"\"\"Affiche un graphique en camembert montrant le taux de données manquantes dans le DataFrame.\n",
    "\n",
    "    Parameters:\n",
    "    dataframe (pandas.DataFrame): Le DataFrame à analyser.\n",
    "    \"\"\"\n",
    "    # Calcul du nombre de lignes et de colonnes\n",
    "    lignes = dataframe.shape[0]\n",
    "    colonnes = dataframe.shape[1]\n",
    "\n",
    "    # Nombre de données non manquantes\n",
    "    nb_data = dataframe.count().sum()\n",
    "\n",
    "    # Nombre total de données dans le jeu de données (colonnes * lignes)\n",
    "    nb_total = colonnes * lignes\n",
    "\n",
    "    # Taux de remplissage du jeu de données\n",
    "    rate_data_ok = nb_data / nb_total\n",
    "    print(f\"Le jeu de données est rempli à {rate_data_ok:.2%}\")\n",
    "    print(f\"Il a {1 - rate_data_ok:.2%} de données manquantes\")\n",
    "    print(\"\\n\")\n",
    "\n",
    "    # Création du pie chart\n",
    "    rates = [rate_data_ok, 1 - rate_data_ok]\n",
    "    labels = [\"Données\", \"NAN\"]\n",
    "    explode = (0, 0.1)\n",
    "    colors = ['gold', 'pink']\n",
    "\n",
    "    # Plot\n",
    "    plt.figure(figsize=(8, 10))\n",
    "    plt.pie(rates, explode=explode, labels=labels, colors=colors,\n",
    "            autopct='%.2f%%', shadow=True, textprops={'fontsize': 26})\n",
    "\n",
    "    # Titre du graphique\n",
    "    ttl = plt.title(\"Taux des valeurs manquantes dans la base de données\", fontsize=30)\n",
    "    ttl.set_position([0.5, 0.50])\n",
    "\n",
    "    # Assurer que le graphique est bien circulaire\n",
    "    plt.axis('equal')\n",
    "    plt.tight_layout()\n",
    "\n",
    "    # Afficher le graphique\n",
    "    plt.show()\n",
    "\n",
    "\n",
    "# Application de la fonction de comptage du taux de données manquantes dans le Data Frame\n",
    "pie_nan(df_customer)"
   ]
  },
  {
   "cell_type": "code",
   "execution_count": 17,
   "id": "adbb4a12-c57d-40cc-bd1b-80e73bd77afa",
   "metadata": {},
   "outputs": [
    {
     "data": {
      "text/plain": [
       "annual_income         0.0000\n",
       "number_of_children    0.0000\n",
       "age                   1.9842\n",
       "education_level       1.9844\n",
       "marital_status        1.9934\n",
       "account_status        1.9967\n",
       "country               1.9989\n",
       "gender                2.0001\n",
       "employment_status     2.0012\n",
       "subscription_type     2.0200\n",
       "dtype: float64"
      ]
     },
     "execution_count": 17,
     "metadata": {},
     "output_type": "execute_result"
    }
   ],
   "source": [
    "# Affichege du pourcentage de valeurs manquantes par colonne\n",
    "\n",
    "def show_all_missing(data_set):\n",
    "    \"\"\"Calcule et retourne le pourcentage de valeurs manquantes par colonne dans un DataFrame.\n",
    "    \"\"\"\n",
    "    return (data_set.isna().sum() / data_set.shape[0]).sort_values(ascending=True) * 100\n",
    "\n",
    "    \n",
    "show_all_missing(df_customer) #  Appel de la fonction d'"
   ]
  },
  {
   "cell_type": "code",
   "execution_count": 18,
   "id": "0c24482c-b15b-414c-a598-5da7dbbf48a1",
   "metadata": {},
   "outputs": [
    {
     "data": {
      "text/html": [
       "<div>\n",
       "<style scoped>\n",
       "    .dataframe tbody tr th:only-of-type {\n",
       "        vertical-align: middle;\n",
       "    }\n",
       "\n",
       "    .dataframe tbody tr th {\n",
       "        vertical-align: top;\n",
       "    }\n",
       "\n",
       "    .dataframe thead th {\n",
       "        text-align: right;\n",
       "    }\n",
       "</style>\n",
       "<table border=\"1\" class=\"dataframe\">\n",
       "  <thead>\n",
       "    <tr style=\"text-align: right;\">\n",
       "      <th></th>\n",
       "      <th>age</th>\n",
       "      <th>annual_income</th>\n",
       "      <th>number_of_children</th>\n",
       "    </tr>\n",
       "  </thead>\n",
       "  <tbody>\n",
       "    <tr>\n",
       "      <th>count</th>\n",
       "      <td>980158.000000</td>\n",
       "      <td>1.000000e+06</td>\n",
       "      <td>1000000.000000</td>\n",
       "    </tr>\n",
       "    <tr>\n",
       "      <th>mean</th>\n",
       "      <td>54.388419</td>\n",
       "      <td>1.176114e+06</td>\n",
       "      <td>2.420123</td>\n",
       "    </tr>\n",
       "    <tr>\n",
       "      <th>std</th>\n",
       "      <td>21.082550</td>\n",
       "      <td>1.191776e+07</td>\n",
       "      <td>1.895068</td>\n",
       "    </tr>\n",
       "    <tr>\n",
       "      <th>min</th>\n",
       "      <td>18.000000</td>\n",
       "      <td>1.500005e+04</td>\n",
       "      <td>-10.000000</td>\n",
       "    </tr>\n",
       "    <tr>\n",
       "      <th>25%</th>\n",
       "      <td>36.000000</td>\n",
       "      <td>6.168157e+04</td>\n",
       "      <td>1.000000</td>\n",
       "    </tr>\n",
       "    <tr>\n",
       "      <th>50%</th>\n",
       "      <td>54.000000</td>\n",
       "      <td>1.083261e+05</td>\n",
       "      <td>2.000000</td>\n",
       "    </tr>\n",
       "    <tr>\n",
       "      <th>75%</th>\n",
       "      <td>73.000000</td>\n",
       "      <td>1.550781e+05</td>\n",
       "      <td>4.000000</td>\n",
       "    </tr>\n",
       "    <tr>\n",
       "      <th>max</th>\n",
       "      <td>91.000000</td>\n",
       "      <td>1.999883e+08</td>\n",
       "      <td>5.000000</td>\n",
       "    </tr>\n",
       "  </tbody>\n",
       "</table>\n",
       "</div>"
      ],
      "text/plain": [
       "                 age  annual_income  number_of_children\n",
       "count  980158.000000   1.000000e+06      1000000.000000\n",
       "mean       54.388419   1.176114e+06            2.420123\n",
       "std        21.082550   1.191776e+07            1.895068\n",
       "min        18.000000   1.500005e+04          -10.000000\n",
       "25%        36.000000   6.168157e+04            1.000000\n",
       "50%        54.000000   1.083261e+05            2.000000\n",
       "75%        73.000000   1.550781e+05            4.000000\n",
       "max        91.000000   1.999883e+08            5.000000"
      ]
     },
     "execution_count": 18,
     "metadata": {},
     "output_type": "execute_result"
    }
   ],
   "source": [
    "df_customer.describe()"
   ]
  },
  {
   "cell_type": "markdown",
   "id": "6a57f505-d815-4299-a112-560592b0fcf4",
   "metadata": {},
   "source": [
    "## Analyse des distributions marginales des variables quantitatives via des histogrammes et des boxplots, réalisée en amont du processus de nettoyage"
   ]
  },
  {
   "cell_type": "code",
   "execution_count": 19,
   "id": "52836d5f-bafc-4426-9fd2-85a5c31fe676",
   "metadata": {},
   "outputs": [
    {
     "data": {
      "image/png": "[encoded data removed]",
      "text/plain": [
       "<Figure size 1200x1000 with 3 Axes>"
      ]
     },
     "metadata": {},
     "output_type": "display_data"
    },
    {
     "name": "stdout",
     "output_type": "stream",
     "text": [
      "\n",
      "\n"
     ]
    },
    {
     "data": {
      "image/png": "[encoded data removed]",
      "text/plain": [
       "<Figure size 1200x1000 with 3 Axes>"
      ]
     },
     "metadata": {},
     "output_type": "display_data"
    }
   ],
   "source": [
    "plt.figure(figsize=(12, 10))\n",
    "\n",
    "# 🔹 Histogramme de age\n",
    "plt.subplot(2, 2, 1)\n",
    "sns.histplot(df_customer['age'], color=\"teal\", bins=30, kde=True)\n",
    "plt.title(\"Histogramme de age\")\n",
    "\n",
    "# 🔹 Histogramme de annual_income\n",
    "plt.subplot(2, 2, 2)\n",
    "sns.histplot(df_customer['annual_income'], color=\"orange\", bins=30, kde=True)\n",
    "plt.title(\"Histogramme de annual_income\")\n",
    "\n",
    "# 🔹 Histogramme de number_of_children\n",
    "plt.subplot(2, 2, 3)\n",
    "sns.histplot(df_customer['number_of_children'], color=\"purple\", bins=15, kde=False)\n",
    "plt.title(\"Histogramme de number_of_children\")\n",
    "\n",
    "plt.tight_layout()\n",
    "plt.show()\n",
    "\n",
    "print(\"\\n\")\n",
    "\n",
    "plt.figure(figsize=(12, 10))\n",
    "\n",
    "# 🔹 Boxplot de age\n",
    "plt.subplot(2, 2, 1)\n",
    "sns.boxplot(x=df_customer['age'], color=\"teal\")\n",
    "plt.title(\"Boxplot de age\")\n",
    "\n",
    "# 🔹 Boxplot de annual_income\n",
    "plt.subplot(2, 2, 2)\n",
    "sns.boxplot(x=df_customer['annual_income'], color=\"orange\")\n",
    "plt.title(\"Boxplot de annual_income\")\n",
    "\n",
    "# 🔹 Boxplot de number_of_children\n",
    "plt.subplot(2, 2, 3)\n",
    "sns.boxplot(x=df_customer['number_of_children'], color=\"purple\")\n",
    "plt.title(\"Boxplot de number_of_children\")\n",
    "\n",
    "plt.tight_layout()\n",
    "plt.show()"
   ]
  },
  {
   "cell_type": "markdown",
   "id": "58a6d7e3-43a6-46a1-8776-bda1dfaf0e09",
   "metadata": {},
   "source": [
    "### Resultats d'analyse exploratoire des distributions marginales des variables quantitatives.\n",
    "- ## age :\n",
    "- Répartition uniforme : Les âges semblent bien répartis sur toute la plage (environ 18 à 90 ans).\n",
    "- Aucune anomalie visuelle : Il n’y a pas de pics ou de trous anormaux.\n",
    "- La courbe de densité (KDE) est globalement plate, ce qui confirme l’uniformité.\n",
    "\n",
    "\n",
    "\n",
    "- ## annual_income:\n",
    "- Très forte asymétrie (distribution extrêmement biaisée à droite).\n",
    "- Presque toutes les valeurs sont très faibles (vers 0), avec quelques revenus extrêmes (outliers) dépassant les 200 millions (soit 2 × 10⁸).\n",
    "- Cela indique des valeurs aberrantes très élevées, qui doivent être supprimées.\n",
    "- \n",
    "- ## number_of_children :\n",
    "- On voit des valeurs négatives (jusqu'à -10), ce qui est incohérent.\n",
    "- Ensuite, on observe une augmentation logique du nombre d’enfants de 0 à 5, avec un pic notable vers 4-5 enfants.\n",
    "- Anomalies évidentes :\n",
    "- Le nombre d’enfants ne peut pas être négatif.\n",
    "- Ces valeurs négatives doivent être supprimées."
   ]
  },
  {
   "cell_type": "markdown",
   "id": "0f9eeb3e-ef19-4f1e-9e17-5e58a4544f0a",
   "metadata": {},
   "source": [
    "### Corrélation entre les variables numériques"
   ]
  },
  {
   "cell_type": "code",
   "execution_count": 20,
   "id": "33dc69f3-f054-4d55-806b-5b7a4657a04a",
   "metadata": {},
   "outputs": [
    {
     "data": {
      "text/html": [
       "<div>\n",
       "<style scoped>\n",
       "    .dataframe tbody tr th:only-of-type {\n",
       "        vertical-align: middle;\n",
       "    }\n",
       "\n",
       "    .dataframe tbody tr th {\n",
       "        vertical-align: top;\n",
       "    }\n",
       "\n",
       "    .dataframe thead th {\n",
       "        text-align: right;\n",
       "    }\n",
       "</style>\n",
       "<table border=\"1\" class=\"dataframe\">\n",
       "  <thead>\n",
       "    <tr style=\"text-align: right;\">\n",
       "      <th></th>\n",
       "      <th>age</th>\n",
       "      <th>annual_income</th>\n",
       "      <th>number_of_children</th>\n",
       "    </tr>\n",
       "  </thead>\n",
       "  <tbody>\n",
       "    <tr>\n",
       "      <th>age</th>\n",
       "      <td>1.000000</td>\n",
       "      <td>0.000754</td>\n",
       "      <td>-0.001021</td>\n",
       "    </tr>\n",
       "    <tr>\n",
       "      <th>annual_income</th>\n",
       "      <td>0.000754</td>\n",
       "      <td>1.000000</td>\n",
       "      <td>-0.000791</td>\n",
       "    </tr>\n",
       "    <tr>\n",
       "      <th>number_of_children</th>\n",
       "      <td>-0.001021</td>\n",
       "      <td>-0.000791</td>\n",
       "      <td>1.000000</td>\n",
       "    </tr>\n",
       "  </tbody>\n",
       "</table>\n",
       "</div>"
      ],
      "text/plain": [
       "                         age  annual_income  number_of_children\n",
       "age                 1.000000       0.000754           -0.001021\n",
       "annual_income       0.000754       1.000000           -0.000791\n",
       "number_of_children -0.001021      -0.000791            1.000000"
      ]
     },
     "execution_count": 20,
     "metadata": {},
     "output_type": "execute_result"
    }
   ],
   "source": [
    "df_num = ['age', 'annual_income', 'number_of_children']\n",
    "df_customer[df_num].corr()"
   ]
  },
  {
   "cell_type": "code",
   "execution_count": 21,
   "id": "bafb34f6-0996-45ab-8a12-45cd31cb398c",
   "metadata": {},
   "outputs": [
    {
     "data": {
      "image/png": "[encoded data removed]",
      "text/plain": [
       "<Figure size 1200x800 with 2 Axes>"
      ]
     },
     "metadata": {},
     "output_type": "display_data"
    }
   ],
   "source": [
    "plt.figure(figsize=(12,8))\n",
    "sns.heatmap(df_customer[df_num].corr(), annot=True)\n",
    "plt.show()"
   ]
  },
  {
   "cell_type": "markdown",
   "id": "fc042645-ea68-4d7b-83a4-a88e004f7851",
   "metadata": {},
   "source": [
    "Pas de corrélation entre les variables numériques"
   ]
  },
  {
   "cell_type": "markdown",
   "id": "ad375f9b-edc4-4eee-a982-aedda845f557",
   "metadata": {},
   "source": [
    "# TrainTest-Nettoyage\n",
    "Objectifs :\n",
    "- Repartition des données en Trains et test\n",
    "- Supprimer ou corriger les valeurs aberrantes.\n",
    "\n",
    "- Préparer les données pour des analyses plus fiables."
   ]
  },
  {
   "cell_type": "code",
   "execution_count": 22,
   "id": "8044ef75-d84e-4676-ae25-9229b31057a1",
   "metadata": {},
   "outputs": [],
   "source": [
    "# TrainTest \n",
    "trainset, testset = train_test_split(df_customer, test_size = 0.2 , random_state=40)"
   ]
  },
  {
   "cell_type": "code",
   "execution_count": 23,
   "id": "11b78ecd-0173-44ed-9bf6-e55d48ec368a",
   "metadata": {
    "scrolled": true
   },
   "outputs": [],
   "source": [
    "# 1. Nettoyage initial des données\n",
    "def convert_and_filter_basic(df):\n",
    "    # Conversion en numérique avec coercition d'erreurs\n",
    "    cols_to_numeric = ['age', 'annual_income', 'number_of_children']\n",
    "    for col in cols_to_numeric:\n",
    "        df[col] = pd.to_numeric(df[col], errors='coerce')\n",
    "        \n",
    "    # Filtrage des âges réalistes\n",
    "    df = df[(df['age'] >= 18) & (df['age'] <= 91)]\n",
    "    # Filtrage des revenus positifs\n",
    "    df = df[df['annual_income'] >= 0]\n",
    "    # Filtrage nombre d'enfants >= 0\n",
    "    df = df[df['number_of_children'] >= 0]\n",
    "    \n",
    "    return df\n",
    "\n",
    "# 2. Gestion des outliers et transformation des variables\n",
    "def handle_outliers_and_transform(df):\n",
    "    # Suppression des outliers sur revenu annuel (au-delà du 99e percentile)\n",
    "    income_threshold = df['annual_income'].quantile(0.99)\n",
    "    df = df[df['annual_income'] <= income_threshold].copy()\n",
    "    \n",
    "    # # Transformation logarithmique du revenu annuel\n",
    "    # df['log_annual_income'] = np.log1p(df['annual_income'])\n",
    "    \n",
    "    return df\n",
    "\n",
    "# 3. Suppression des valeurs manquantes\n",
    "def remove_missing_values(df, target_col='account_status', predictor_cols=None):\n",
    "    # Suppression des lignes où la cible est manquante (impératif)\n",
    "    df = df.dropna(subset=[target_col])\n",
    "    \n",
    "    # Si une liste de colonnes prédicteurs est fournie, on supprime les lignes où ces prédicteurs sont manquants\n",
    "    if predictor_cols is not None:\n",
    "        df = df.dropna(subset=predictor_cols)\n",
    "    \n",
    "    return df"
   ]
  },
  {
   "cell_type": "markdown",
   "id": "496c8e7a-2705-45e1-823d-87f18faaa03e",
   "metadata": {},
   "source": [
    "## Feature engineering"
   ]
  },
  {
   "cell_type": "code",
   "execution_count": 24,
   "id": "beadae7b-36ec-40d7-b83a-ff1a4dd0f8cf",
   "metadata": {},
   "outputs": [],
   "source": [
    "# Crétion de groupe d'âges\n",
    "def create_features(df):\n",
    "    # Tranches d'âge\n",
    "    def categorize_age(age):\n",
    "        if age < 25:\n",
    "            return '18-24'\n",
    "        elif age < 35:\n",
    "            return '25-34'\n",
    "        elif age < 50:\n",
    "            return '35-49'\n",
    "        elif age < 65:\n",
    "            return '50-64'\n",
    "        else:\n",
    "            return '65+'\n",
    "    \n",
    "    df['age_group'] = df['age'].apply(categorize_age)\n",
    "    \n",
    "    # Taux de charge familiale\n",
    "    df['children_per_age'] = df['number_of_children'] / df['age']\n",
    "    df['children_per_age'] = df['children_per_age'].fillna(0)\n",
    "\n",
    "    # Transformation log du revenu annuel\n",
    "    df['log_annual_income'] = np.log1p(df['annual_income'])  # log(1 + x) pour éviter log(0)\n",
    "    # Groupes de revenu selon log revenu\n",
    "    # if 'log_annual_income' in df.columns:\n",
    "    #     df['income_group'] = pd.qcut(df['log_annual_income'], 4, labels=['Low', 'Medium', 'High', 'Very High'])\n",
    "\n",
    "    \n",
    "    # Suppression de la colonne age si nécessaire (car age_group la remplace)\n",
    "    df.drop(columns=['age'], inplace=True)\n",
    "    \n",
    "    return df\n",
    "\n",
    "\n",
    "# 5. Visualisation\n",
    "def plot_age_distribution(df):\n",
    "    plt.figure(figsize=(8, 4))\n",
    "    sns.countplot(data=df, x='age_group')\n",
    "    plt.title(\"Répartition par tranche d'âge\")\n",
    "    plt.show()"
   ]
  },
  {
   "cell_type": "code",
   "execution_count": 25,
   "id": "0a773340-7e39-4897-a862-6e674697d2e6",
   "metadata": {},
   "outputs": [],
   "source": [
    "# pipeline_complet_de_prétraitement\n",
    "def preprocess_pipeline(df):\n",
    "    df = convert_and_filter_basic(df)\n",
    "    df = handle_outliers_and_transform(df)\n",
    "    # Liste des colonnes prédicteurs importantes pour lesquelles on veut pas de NaN\n",
    "    predictor_cols = ['age', 'annual_income', 'number_of_children', 'employment_status',\n",
    "                      'marital_status', 'education_level', 'gender', 'country', 'subscription_type']\n",
    "    df = remove_missing_values(df, target_col='account_status', predictor_cols=predictor_cols)\n",
    "    df = create_features(df)\n",
    "    plot_age_distribution(df)\n",
    "\n",
    "    X = df.drop(columns=['account_status'])\n",
    "    y = df['account_status']\n",
    "    return X, y"
   ]
  },
  {
   "cell_type": "code",
   "execution_count": 26,
   "id": "b21a7d36-14b6-4a0a-8dd7-2baab550c181",
   "metadata": {},
   "outputs": [
    {
     "data": {
      "image/png": "[encoded data removed]",
      "text/plain": [
       "<Figure size 800x400 with 1 Axes>"
      ]
     },
     "metadata": {},
     "output_type": "display_data"
    },
    {
     "name": "stdout",
     "output_type": "stream",
     "text": [
      "<class 'pandas.core.frame.DataFrame'>\n",
      "Index: 667179 entries, 501160 to 929094\n",
      "Data columns (total 11 columns):\n",
      " #   Column              Non-Null Count   Dtype  \n",
      "---  ------              --------------   -----  \n",
      " 0   gender              667179 non-null  object \n",
      " 1   marital_status      667179 non-null  object \n",
      " 2   employment_status   667179 non-null  object \n",
      " 3   education_level     667179 non-null  object \n",
      " 4   annual_income       667179 non-null  float64\n",
      " 5   number_of_children  667179 non-null  int64  \n",
      " 6   country             667179 non-null  object \n",
      " 7   subscription_type   667179 non-null  object \n",
      " 8   age_group           667179 non-null  object \n",
      " 9   children_per_age    667179 non-null  float64\n",
      " 10  log_annual_income   667179 non-null  float64\n",
      "dtypes: float64(3), int64(1), object(7)\n",
      "memory usage: 61.1+ MB\n"
     ]
    }
   ],
   "source": [
    "# Exécution du pipeline de prétraitement sur les données de test\n",
    "X_train, y_train = preprocess_pipeline(trainset)\n",
    "\n",
    "X_train.info()"
   ]
  },
  {
   "cell_type": "code",
   "execution_count": 27,
   "id": "2870ad67-a49b-44c8-b60a-97c74ee0f6b0",
   "metadata": {},
   "outputs": [],
   "source": [
    "# On fusionne les données train \n",
    "# df_train_cleaned = X_train.copy()\n",
    "# df_train_cleaned['account_status'] = y_train"
   ]
  },
  {
   "cell_type": "code",
   "execution_count": 28,
   "id": "f08cb5e8-526b-457f-9e60-1ec2d7f5f44b",
   "metadata": {},
   "outputs": [
    {
     "data": {
      "image/png": "[encoded data removed]",
      "text/plain": [
       "<Figure size 800x400 with 1 Axes>"
      ]
     },
     "metadata": {},
     "output_type": "display_data"
    },
    {
     "name": "stdout",
     "output_type": "stream",
     "text": [
      "<class 'pandas.core.frame.DataFrame'>\n",
      "Index: 167049 entries, 884729 to 483739\n",
      "Data columns (total 11 columns):\n",
      " #   Column              Non-Null Count   Dtype  \n",
      "---  ------              --------------   -----  \n",
      " 0   gender              167049 non-null  object \n",
      " 1   marital_status      167049 non-null  object \n",
      " 2   employment_status   167049 non-null  object \n",
      " 3   education_level     167049 non-null  object \n",
      " 4   annual_income       167049 non-null  float64\n",
      " 5   number_of_children  167049 non-null  int64  \n",
      " 6   country             167049 non-null  object \n",
      " 7   subscription_type   167049 non-null  object \n",
      " 8   age_group           167049 non-null  object \n",
      " 9   children_per_age    167049 non-null  float64\n",
      " 10  log_annual_income   167049 non-null  float64\n",
      "dtypes: float64(3), int64(1), object(7)\n",
      "memory usage: 15.3+ MB\n"
     ]
    }
   ],
   "source": [
    "# Exécution du pipeline de prétraitement sur les données de test\n",
    "X_test, y_test = preprocess_pipeline(testset)\n",
    "\n",
    "X_test.info()"
   ]
  },
  {
   "cell_type": "code",
   "execution_count": null,
   "id": "e89d9f37-ec8d-4ae0-abda-b183b709b6cc",
   "metadata": {},
   "outputs": [],
   "source": []
  },
  {
   "cell_type": "markdown",
   "id": "61ca5e2c-ffda-400d-904d-dfe259443d41",
   "metadata": {},
   "source": [
    "# Data Visualisation.\n",
    "Suite au prétraitement et au nettoyage des données (traitement des valeurs manquantes, gestion des outliers), une exploration visuelle a été réalisée pour caractériser la structure statistique des variables :\n",
    "\n",
    "Variables numériques :\n",
    "\n",
    "- Distribution marginale évaluée via histogrammes (densité, asymétrie, dispersion)\n",
    "\n",
    "- Détection d’outliers via boxplots, en vue de guider d’éventuelles transformations ou filtrages\n",
    "\n",
    "Variables catégorielles :\n",
    "\n",
    "- Analyse de fréquence et déséquilibre des modalités par barplots"
   ]
  },
  {
   "cell_type": "code",
   "execution_count": 29,
   "id": "50b88c02-c44c-41a3-a2fa-7af1bd22f4d7",
   "metadata": {},
   "outputs": [
    {
     "data": {
      "image/png": "[encoded data removed]",
      "text/plain": [
       "<Figure size 1200x800 with 2 Axes>"
      ]
     },
     "metadata": {},
     "output_type": "display_data"
    },
    {
     "name": "stdout",
     "output_type": "stream",
     "text": [
      "\n",
      "\n"
     ]
    },
    {
     "data": {
      "image/png": "[encoded data removed]",
      "text/plain": [
       "<Figure size 1200x800 with 2 Axes>"
      ]
     },
     "metadata": {},
     "output_type": "display_data"
    }
   ],
   "source": [
    "plt.figure(figsize=(12, 8))\n",
    "\n",
    "plt.subplot(2, 2, 1)\n",
    "sns.histplot(X_train['children_per_age'], color=\"teal\", bins=30, kde=True)\n",
    "plt.title(\"Histogramme de children_per_age\")\n",
    "\n",
    "plt.subplot(2, 2, 2)\n",
    "sns.histplot(X_train['log_annual_income'], color=\"orange\", bins=30, kde=True)\n",
    "plt.title(\"Histogramme de log_annual_income\")\n",
    "\n",
    "plt.tight_layout()\n",
    "plt.show()\n",
    "\n",
    "print(\"\\n\")\n",
    "\n",
    "plt.figure(figsize=(12, 8))\n",
    "\n",
    "plt.subplot(2, 2, 1)\n",
    "sns.boxplot(x=X_train['children_per_age'], color=\"teal\")\n",
    "plt.title(\"Boxplot de children_per_age\")\n",
    "\n",
    "plt.subplot(2, 2, 2)\n",
    "sns.boxplot(x=X_train['log_annual_income'], color=\"orange\")\n",
    "plt.title(\"Boxplot de log_annual_income\")\n",
    "\n",
    "plt.tight_layout()\n",
    "plt.show()"
   ]
  },
  {
   "cell_type": "code",
   "execution_count": 30,
   "id": "363bd923-bc21-4594-8962-8d7429eeaa47",
   "metadata": {},
   "outputs": [
    {
     "data": {
      "application/vnd.plotly.v1+json": {
       "config": {
        "plotlyServerURL": "https://plot.ly"
       },
       "data": [
        {
         "name": "gender",
         "text": [
          "33.38%",
          "33.37%",
          "33.24%"
         ],
         "textposition": "auto",
         "type": "bar",
         "x": [
          "Other",
          "Female",
          "Male"
         ],
         "xaxis": "x",
         "y": {
          "bdata": "AWYDAMZlAwBkYgMA",
          "dtype": "i4"
         },
         "yaxis": "y"
        },
        {
         "name": "marital_status",
         "text": [
          "25.06%",
          "25.02%",
          "24.99%",
          "24.93%"
         ],
         "textposition": "auto",
         "type": "bar",
         "x": [
          "Single",
          "Widowed",
          "Divorced",
          "Married"
         ],
         "xaxis": "x2",
         "y": {
          "bdata": "Go0CABGMAgA8iwIAxIkCAA==",
          "dtype": "i4"
         },
         "yaxis": "y2"
        },
        {
         "name": "employment_status",
         "text": [
          "20.04%",
          "20.02%",
          "19.99%",
          "19.98%",
          "19.97%"
         ],
         "textposition": "auto",
         "type": "bar",
         "x": [
          "Unemployed",
          "Self-employed",
          "Employed",
          "Retired",
          "Student"
         ],
         "xaxis": "x3",
         "y": {
          "bdata": "PAoCAKcJAgAKCQIAwwgCAHsIAgA=",
          "dtype": "i4"
         },
         "yaxis": "y3"
        },
        {
         "name": "education_level",
         "text": [
          "20.09%",
          "20.05%",
          "19.98%",
          "19.97%",
          "19.91%"
         ],
         "textposition": "auto",
         "type": "bar",
         "x": [
          "Bachelor",
          "High School",
          "Master",
          "PhD",
          "Other"
         ],
         "xaxis": "x4",
         "y": {
          "bdata": "nAsCAIYKAgCuCAIAcggCAOkGAgA=",
          "dtype": "i4"
         },
         "yaxis": "y4"
        },
        {
         "name": "subscription_type",
         "text": [
          "25.08%",
          "24.99%",
          "24.98%",
          "24.95%"
         ],
         "textposition": "auto",
         "type": "bar",
         "x": [
          "Basic",
          "Premium",
          "Free",
          "Enterprise"
         ],
         "xaxis": "x5",
         "y": {
          "bdata": "qI0CADiLAgAJiwIAQooCAA==",
          "dtype": "i4"
         },
         "yaxis": "y5"
        },
        {
         "name": "age_group",
         "text": [
          "36.21%",
          "20.53%",
          "20.5%",
          "13.7%",
          "9.05%"
         ],
         "textposition": "auto",
         "type": "bar",
         "x": [
          "65+",
          "50-64",
          "35-49",
          "25-34",
          "18-24"
         ],
         "xaxis": "x6",
         "y": {
          "bdata": "za8DABkXAgAoFgIAImUBAPvrAAA=",
          "dtype": "i4"
         },
         "yaxis": "y6"
        }
       ],
       "layout": {
        "annotations": [
         {
          "font": {
           "size": 16
          },
          "showarrow": false,
          "text": "gender",
          "x": 0.14444444444444446,
          "xanchor": "center",
          "xref": "paper",
          "y": 1,
          "yanchor": "bottom",
          "yref": "paper"
         },
         {
          "font": {
           "size": 16
          },
          "showarrow": false,
          "text": "marital_status",
          "x": 0.5,
          "xanchor": "center",
          "xref": "paper",
          "y": 1,
          "yanchor": "bottom",
          "yref": "paper"
         },
         {
          "font": {
           "size": 16
          },
          "showarrow": false,
          "text": "employment_status",
          "x": 0.8555555555555556,
          "xanchor": "center",
          "xref": "paper",
          "y": 1,
          "yanchor": "bottom",
          "yref": "paper"
         },
         {
          "font": {
           "size": 16
          },
          "showarrow": false,
          "text": "education_level",
          "x": 0.14444444444444446,
          "xanchor": "center",
          "xref": "paper",
          "y": 0.6111111111111112,
          "yanchor": "bottom",
          "yref": "paper"
         },
         {
          "font": {
           "size": 16
          },
          "showarrow": false,
          "text": "subscription_type",
          "x": 0.5,
          "xanchor": "center",
          "xref": "paper",
          "y": 0.6111111111111112,
          "yanchor": "bottom",
          "yref": "paper"
         },
         {
          "font": {
           "size": 16
          },
          "showarrow": false,
          "text": "age_group",
          "x": 0.8555555555555556,
          "xanchor": "center",
          "xref": "paper",
          "y": 0.6111111111111112,
          "yanchor": "bottom",
          "yref": "paper"
         }
        ],
        "height": 800,
        "showlegend": false,
        "template": {
         "data": {
          "bar": [
           {
            "error_x": {
             "color": "#2a3f5f"
            },
            "error_y": {
             "color": "#2a3f5f"
            },
            "marker": {
             "line": {
              "color": "#E5ECF6",
              "width": 0.5
             },
             "pattern": {
              "fillmode": "overlay",
              "size": 10,
              "solidity": 0.2
             }
            },
            "type": "bar"
           }
          ],
          "barpolar": [
           {
            "marker": {
             "line": {
              "color": "#E5ECF6",
              "width": 0.5
             },
             "pattern": {
              "fillmode": "overlay",
              "size": 10,
              "solidity": 0.2
             }
            },
            "type": "barpolar"
           }
          ],
          "carpet": [
           {
            "aaxis": {
             "endlinecolor": "#2a3f5f",
             "gridcolor": "white",
             "linecolor": "white",
             "minorgridcolor": "white",
             "startlinecolor": "#2a3f5f"
            },
            "baxis": {
             "endlinecolor": "#2a3f5f",
             "gridcolor": "white",
             "linecolor": "white",
             "minorgridcolor": "white",
             "startlinecolor": "#2a3f5f"
            },
            "type": "carpet"
           }
          ],
          "choropleth": [
           {
            "colorbar": {
             "outlinewidth": 0,
             "ticks": ""
            },
            "type": "choropleth"
           }
          ],
          "contour": [
           {
            "colorbar": {
             "outlinewidth": 0,
             "ticks": ""
            },
            "colorscale": [
             [
              0,
              "#0d0887"
             ],
             [
              0.1111111111111111,
              "#46039f"
             ],
             [
              0.2222222222222222,
              "#7201a8"
             ],
             [
              0.3333333333333333,
              "#9c179e"
             ],
             [
              0.4444444444444444,
              "#bd3786"
             ],
             [
              0.5555555555555556,
              "#d8576b"
             ],
             [
              0.6666666666666666,
              "#ed7953"
             ],
             [
              0.7777777777777778,
              "#fb9f3a"
             ],
             [
              0.8888888888888888,
              "#fdca26"
             ],
             [
              1,
              "#f0f921"
             ]
            ],
            "type": "contour"
           }
          ],
          "contourcarpet": [
           {
            "colorbar": {
             "outlinewidth": 0,
             "ticks": ""
            },
            "type": "contourcarpet"
           }
          ],
          "heatmap": [
           {
            "colorbar": {
             "outlinewidth": 0,
             "ticks": ""
            },
            "colorscale": [
             [
              0,
              "#0d0887"
             ],
             [
              0.1111111111111111,
              "#46039f"
             ],
             [
              0.2222222222222222,
              "#7201a8"
             ],
             [
              0.3333333333333333,
              "#9c179e"
             ],
             [
              0.4444444444444444,
              "#bd3786"
             ],
             [
              0.5555555555555556,
              "#d8576b"
             ],
             [
              0.6666666666666666,
              "#ed7953"
             ],
             [
              0.7777777777777778,
              "#fb9f3a"
             ],
             [
              0.8888888888888888,
              "#fdca26"
             ],
             [
              1,
              "#f0f921"
             ]
            ],
            "type": "heatmap"
           }
          ],
          "histogram": [
           {
            "marker": {
             "pattern": {
              "fillmode": "overlay",
              "size": 10,
              "solidity": 0.2
             }
            },
            "type": "histogram"
           }
          ],
          "histogram2d": [
           {
            "colorbar": {
             "outlinewidth": 0,
             "ticks": ""
            },
            "colorscale": [
             [
              0,
              "#0d0887"
             ],
             [
              0.1111111111111111,
              "#46039f"
             ],
             [
              0.2222222222222222,
              "#7201a8"
             ],
             [
              0.3333333333333333,
              "#9c179e"
             ],
             [
              0.4444444444444444,
              "#bd3786"
             ],
             [
              0.5555555555555556,
              "#d8576b"
             ],
             [
              0.6666666666666666,
              "#ed7953"
             ],
             [
              0.7777777777777778,
              "#fb9f3a"
             ],
             [
              0.8888888888888888,
              "#fdca26"
             ],
             [
              1,
              "#f0f921"
             ]
            ],
            "type": "histogram2d"
           }
          ],
          "histogram2dcontour": [
           {
            "colorbar": {
             "outlinewidth": 0,
             "ticks": ""
            },
            "colorscale": [
             [
              0,
              "#0d0887"
             ],
             [
              0.1111111111111111,
              "#46039f"
             ],
             [
              0.2222222222222222,
              "#7201a8"
             ],
             [
              0.3333333333333333,
              "#9c179e"
             ],
             [
              0.4444444444444444,
              "#bd3786"
             ],
             [
              0.5555555555555556,
              "#d8576b"
             ],
             [
              0.6666666666666666,
              "#ed7953"
             ],
             [
              0.7777777777777778,
              "#fb9f3a"
             ],
             [
              0.8888888888888888,
              "#fdca26"
             ],
             [
              1,
              "#f0f921"
             ]
            ],
            "type": "histogram2dcontour"
           }
          ],
          "mesh3d": [
           {
            "colorbar": {
             "outlinewidth": 0,
             "ticks": ""
            },
            "type": "mesh3d"
           }
          ],
          "parcoords": [
           {
            "line": {
             "colorbar": {
              "outlinewidth": 0,
              "ticks": ""
             }
            },
            "type": "parcoords"
           }
          ],
          "pie": [
           {
            "automargin": true,
            "type": "pie"
           }
          ],
          "scatter": [
           {
            "fillpattern": {
             "fillmode": "overlay",
             "size": 10,
             "solidity": 0.2
            },
            "type": "scatter"
           }
          ],
          "scatter3d": [
           {
            "line": {
             "colorbar": {
              "outlinewidth": 0,
              "ticks": ""
             }
            },
            "marker": {
             "colorbar": {
              "outlinewidth": 0,
              "ticks": ""
             }
            },
            "type": "scatter3d"
           }
          ],
          "scattercarpet": [
           {
            "marker": {
             "colorbar": {
              "outlinewidth": 0,
              "ticks": ""
             }
            },
            "type": "scattercarpet"
           }
          ],
          "scattergeo": [
           {
            "marker": {
             "colorbar": {
              "outlinewidth": 0,
              "ticks": ""
             }
            },
            "type": "scattergeo"
           }
          ],
          "scattergl": [
           {
            "marker": {
             "colorbar": {
              "outlinewidth": 0,
              "ticks": ""
             }
            },
            "type": "scattergl"
           }
          ],
          "scattermap": [
           {
            "marker": {
             "colorbar": {
              "outlinewidth": 0,
              "ticks": ""
             }
            },
            "type": "scattermap"
           }
          ],
          "scattermapbox": [
           {
            "marker": {
             "colorbar": {
              "outlinewidth": 0,
              "ticks": ""
             }
            },
            "type": "scattermapbox"
           }
          ],
          "scatterpolar": [
           {
            "marker": {
             "colorbar": {
              "outlinewidth": 0,
              "ticks": ""
             }
            },
            "type": "scatterpolar"
           }
          ],
          "scatterpolargl": [
           {
            "marker": {
             "colorbar": {
              "outlinewidth": 0,
              "ticks": ""
             }
            },
            "type": "scatterpolargl"
           }
          ],
          "scatterternary": [
           {
            "marker": {
             "colorbar": {
              "outlinewidth": 0,
              "ticks": ""
             }
            },
            "type": "scatterternary"
           }
          ],
          "surface": [
           {
            "colorbar": {
             "outlinewidth": 0,
             "ticks": ""
            },
            "colorscale": [
             [
              0,
              "#0d0887"
             ],
             [
              0.1111111111111111,
              "#46039f"
             ],
             [
              0.2222222222222222,
              "#7201a8"
             ],
             [
              0.3333333333333333,
              "#9c179e"
             ],
             [
              0.4444444444444444,
              "#bd3786"
             ],
             [
              0.5555555555555556,
              "#d8576b"
             ],
             [
              0.6666666666666666,
              "#ed7953"
             ],
             [
              0.7777777777777778,
              "#fb9f3a"
             ],
             [
              0.8888888888888888,
              "#fdca26"
             ],
             [
              1,
              "#f0f921"
             ]
            ],
            "type": "surface"
           }
          ],
          "table": [
           {
            "cells": {
             "fill": {
              "color": "#EBF0F8"
             },
             "line": {
              "color": "white"
             }
            },
            "header": {
             "fill": {
              "color": "#C8D4E3"
             },
             "line": {
              "color": "white"
             }
            },
            "type": "table"
           }
          ]
         },
         "layout": {
          "annotationdefaults": {
           "arrowcolor": "#2a3f5f",
           "arrowhead": 0,
           "arrowwidth": 1
          },
          "autotypenumbers": "strict",
          "coloraxis": {
           "colorbar": {
            "outlinewidth": 0,
            "ticks": ""
           }
          },
          "colorscale": {
           "diverging": [
            [
             0,
             "#8e0152"
            ],
            [
             0.1,
             "#c51b7d"
            ],
            [
             0.2,
             "#de77ae"
            ],
            [
             0.3,
             "#f1b6da"
            ],
            [
             0.4,
             "#fde0ef"
            ],
            [
             0.5,
             "#f7f7f7"
            ],
            [
             0.6,
             "#e6f5d0"
            ],
            [
             0.7,
             "#b8e186"
            ],
            [
             0.8,
             "#7fbc41"
            ],
            [
             0.9,
             "#4d9221"
            ],
            [
             1,
             "#276419"
            ]
           ],
           "sequential": [
            [
             0,
             "#0d0887"
            ],
            [
             0.1111111111111111,
             "#46039f"
            ],
            [
             0.2222222222222222,
             "#7201a8"
            ],
            [
             0.3333333333333333,
             "#9c179e"
            ],
            [
             0.4444444444444444,
             "#bd3786"
            ],
            [
             0.5555555555555556,
             "#d8576b"
            ],
            [
             0.6666666666666666,
             "#ed7953"
            ],
            [
             0.7777777777777778,
             "#fb9f3a"
            ],
            [
             0.8888888888888888,
             "#fdca26"
            ],
            [
             1,
             "#f0f921"
            ]
           ],
           "sequentialminus": [
            [
             0,
             "#0d0887"
            ],
            [
             0.1111111111111111,
             "#46039f"
            ],
            [
             0.2222222222222222,
             "#7201a8"
            ],
            [
             0.3333333333333333,
             "#9c179e"
            ],
            [
             0.4444444444444444,
             "#bd3786"
            ],
            [
             0.5555555555555556,
             "#d8576b"
            ],
            [
             0.6666666666666666,
             "#ed7953"
            ],
            [
             0.7777777777777778,
             "#fb9f3a"
            ],
            [
             0.8888888888888888,
             "#fdca26"
            ],
            [
             1,
             "#f0f921"
            ]
           ]
          },
          "colorway": [
           "#636efa",
           "#EF553B",
           "#00cc96",
           "#ab63fa",
           "#FFA15A",
           "#19d3f3",
           "#FF6692",
           "#B6E880",
           "#FF97FF",
           "#FECB52"
          ],
          "font": {
           "color": "#2a3f5f"
          },
          "geo": {
           "bgcolor": "white",
           "lakecolor": "white",
           "landcolor": "#E5ECF6",
           "showlakes": true,
           "showland": true,
           "subunitcolor": "white"
          },
          "hoverlabel": {
           "align": "left"
          },
          "hovermode": "closest",
          "mapbox": {
           "style": "light"
          },
          "paper_bgcolor": "white",
          "plot_bgcolor": "#E5ECF6",
          "polar": {
           "angularaxis": {
            "gridcolor": "white",
            "linecolor": "white",
            "ticks": ""
           },
           "bgcolor": "#E5ECF6",
           "radialaxis": {
            "gridcolor": "white",
            "linecolor": "white",
            "ticks": ""
           }
          },
          "scene": {
           "xaxis": {
            "backgroundcolor": "#E5ECF6",
            "gridcolor": "white",
            "gridwidth": 2,
            "linecolor": "white",
            "showbackground": true,
            "ticks": "",
            "zerolinecolor": "white"
           },
           "yaxis": {
            "backgroundcolor": "#E5ECF6",
            "gridcolor": "white",
            "gridwidth": 2,
            "linecolor": "white",
            "showbackground": true,
            "ticks": "",
            "zerolinecolor": "white"
           },
           "zaxis": {
            "backgroundcolor": "#E5ECF6",
            "gridcolor": "white",
            "gridwidth": 2,
            "linecolor": "white",
            "showbackground": true,
            "ticks": "",
            "zerolinecolor": "white"
           }
          },
          "shapedefaults": {
           "line": {
            "color": "#2a3f5f"
           }
          },
          "ternary": {
           "aaxis": {
            "gridcolor": "white",
            "linecolor": "white",
            "ticks": ""
           },
           "baxis": {
            "gridcolor": "white",
            "linecolor": "white",
            "ticks": ""
           },
           "bgcolor": "#E5ECF6",
           "caxis": {
            "gridcolor": "white",
            "linecolor": "white",
            "ticks": ""
           }
          },
          "title": {
           "x": 0.05
          },
          "xaxis": {
           "automargin": true,
           "gridcolor": "white",
           "linecolor": "white",
           "ticks": "",
           "title": {
            "standoff": 15
           },
           "zerolinecolor": "white",
           "zerolinewidth": 2
          },
          "yaxis": {
           "automargin": true,
           "gridcolor": "white",
           "linecolor": "white",
           "ticks": "",
           "title": {
            "standoff": 15
           },
           "zerolinecolor": "white",
           "zerolinewidth": 2
          }
         }
        },
        "width": 1000,
        "xaxis": {
         "anchor": "y",
         "domain": [
          0,
          0.2888888888888889
         ],
         "showgrid": false
        },
        "xaxis2": {
         "anchor": "y2",
         "domain": [
          0.35555555555555557,
          0.6444444444444445
         ],
         "showgrid": false
        },
        "xaxis3": {
         "anchor": "y3",
         "domain": [
          0.7111111111111111,
          1
         ],
         "showgrid": false
        },
        "xaxis4": {
         "anchor": "y4",
         "domain": [
          0,
          0.2888888888888889
         ],
         "showgrid": false
        },
        "xaxis5": {
         "anchor": "y5",
         "domain": [
          0.35555555555555557,
          0.6444444444444445
         ],
         "showgrid": false
        },
        "xaxis6": {
         "anchor": "y6",
         "domain": [
          0.7111111111111111,
          1
         ],
         "showgrid": false
        },
        "xaxis7": {
         "anchor": "y7",
         "domain": [
          0,
          0.2888888888888889
         ]
        },
        "xaxis8": {
         "anchor": "y8",
         "domain": [
          0.35555555555555557,
          0.6444444444444445
         ]
        },
        "xaxis9": {
         "anchor": "y9",
         "domain": [
          0.7111111111111111,
          1
         ]
        },
        "yaxis": {
         "anchor": "x",
         "domain": [
          0.7777777777777778,
          1
         ],
         "showgrid": false
        },
        "yaxis2": {
         "anchor": "x2",
         "domain": [
          0.7777777777777778,
          1
         ],
         "showgrid": false
        },
        "yaxis3": {
         "anchor": "x3",
         "domain": [
          0.7777777777777778,
          1
         ],
         "showgrid": false
        },
        "yaxis4": {
         "anchor": "x4",
         "domain": [
          0.3888888888888889,
          0.6111111111111112
         ],
         "showgrid": false
        },
        "yaxis5": {
         "anchor": "x5",
         "domain": [
          0.3888888888888889,
          0.6111111111111112
         ],
         "showgrid": false
        },
        "yaxis6": {
         "anchor": "x6",
         "domain": [
          0.3888888888888889,
          0.6111111111111112
         ],
         "showgrid": false
        },
        "yaxis7": {
         "anchor": "x7",
         "domain": [
          0,
          0.22222222222222224
         ]
        },
        "yaxis8": {
         "anchor": "x8",
         "domain": [
          0,
          0.22222222222222224
         ]
        },
        "yaxis9": {
         "anchor": "x9",
         "domain": [
          0,
          0.22222222222222224
         ]
        }
       }
      },
      "image/png": "[encoded data removed]"
     },
     "metadata": {},
     "output_type": "display_data"
    },
    {
     "name": "stdout",
     "output_type": "stream",
     "text": [
      "\n",
      "\n"
     ]
    },
    {
     "data": {
      "application/vnd.plotly.v1+json": {
       "config": {
        "plotlyServerURL": "https://plot.ly"
       },
       "data": [
        {
         "hovertemplate": "Pays=%{x}<br>Nombre de clients=%{text}<extra></extra>",
         "legendgroup": "",
         "marker": {
          "color": "#636efa",
          "pattern": {
           "shape": ""
          }
         },
         "name": "",
         "orientation": "v",
         "showlegend": false,
         "text": {
          "bdata": "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",
          "dtype": "f8"
         },
         "textposition": "outside",
         "type": "bar",
         "x": [
          "Congo",
          "Korea",
          "Zimbabwe",
          "Cayman Islands",
          "Senegal",
          "Georgia",
          "Zambia",
          "Taiwan",
          "United States of America",
          "Switzerland",
          "Estonia",
          "Sierra Leone",
          "Antigua and Barbuda",
          "Netherlands",
          "Papua New Guinea",
          "Palau",
          "Azerbaijan",
          "Pakistan",
          "Slovenia",
          "Morocco",
          "Ireland",
          "Austria",
          "Sri Lanka",
          "Nicaragua",
          "Monaco",
          "Somalia",
          "American Samoa",
          "Isle of Man",
          "Yemen",
          "Norway",
          "Malawi",
          "Niger",
          "Suriname",
          "Saint Pierre and Miquelon",
          "Jordan",
          "Oman",
          "Saint Helena",
          "Benin",
          "Mexico",
          "Andorra",
          "Faroe Islands",
          "Saint Barthelemy",
          "Brazil",
          "Lesotho",
          "Slovakia (Slovak Republic)",
          "Western Sahara",
          "Thailand",
          "Gambia",
          "United States Minor Outlying Islands",
          "United Arab Emirates",
          "Ukraine",
          "New Caledonia",
          "Tokelau",
          "Brunei Darussalam",
          "Mali",
          "Bolivia",
          "France",
          "Honduras",
          "Barbados",
          "Sudan",
          "Cambodia",
          "Hong Kong",
          "Uzbekistan",
          "Jersey",
          "Guatemala",
          "Japan",
          "Guam",
          "Cape Verde",
          "Maldives",
          "Seychelles",
          "Guinea",
          "Turkmenistan",
          "Guernsey",
          "Kuwait",
          "Venezuela",
          "Chad",
          "Spain",
          "Greece",
          "Christmas Island",
          "Gibraltar",
          "British Indian Ocean Territory (Chagos Archipelago)",
          "Belarus",
          "Botswana",
          "French Polynesia",
          "Puerto Rico",
          "Wallis and Futuna",
          "Lithuania",
          "Egypt",
          "Germany",
          "Serbia",
          "Togo",
          "Svalbard & Jan Mayen Islands",
          "Angola",
          "Heard Island and McDonald Islands",
          "North Macedonia",
          "Bhutan",
          "Chile",
          "Latvia",
          "Philippines",
          "United Kingdom",
          "Burkina Faso",
          "Hungary",
          "Dominican Republic",
          "Cote d'Ivoire",
          "Northern Mariana Islands",
          "Argentina",
          "Bulgaria",
          "Netherlands Antilles",
          "South Africa",
          "Colombia",
          "Ghana",
          "Norfolk Island",
          "Moldova",
          "Peru",
          "Kazakhstan",
          "Bahamas",
          "Haiti",
          "Uruguay",
          "Tuvalu",
          "Kiribati",
          "Timor-Leste",
          "Mauritania",
          "Montserrat",
          "Macao",
          "Turkey",
          "Malta",
          "Paraguay",
          "Saudi Arabia",
          "China",
          "Syrian Arab Republic",
          "Cook Islands",
          "Rwanda",
          "Niue",
          "Croatia",
          "Central African Republic",
          "Saint Martin",
          "Mongolia",
          "Solomon Islands",
          "Finland",
          "El Salvador",
          "Nepal",
          "Swaziland",
          "Indonesia",
          "Sao Tome and Principe",
          "Nigeria",
          "Liberia",
          "Singapore",
          "Lao People's Democratic Republic",
          "Bouvet Island (Bouvetoya)",
          "Italy",
          "Iran",
          "Armenia",
          "Algeria",
          "Bosnia and Herzegovina",
          "Saint Kitts and Nevis",
          "Ecuador",
          "Dominica",
          "United States Virgin Islands",
          "Vietnam",
          "Falkland Islands (Malvinas)",
          "Djibouti",
          "Saint Vincent and the Grenadines",
          "Guyana",
          "Reunion",
          "Holy See (Vatican City State)",
          "Sweden",
          "Palestinian Territory",
          "Micronesia",
          "Iceland",
          "Anguilla",
          "Grenada",
          "India",
          "Bermuda",
          "Turks and Caicos Islands",
          "Portugal",
          "Costa Rica",
          "New Zealand",
          "Saint Lucia",
          "Kenya",
          "Aruba",
          "Panama",
          "Comoros",
          "Romania",
          "French Guiana",
          "Pitcairn Islands",
          "Mayotte",
          "Libyan Arab Jamahiriya",
          "Poland",
          "South Georgia and the South Sandwich Islands",
          "Ethiopia",
          "Tajikistan",
          "Qatar",
          "Liechtenstein",
          "Vanuatu",
          "Fiji",
          "Australia",
          "Tunisia",
          "Madagascar",
          "Denmark",
          "Belize",
          "Canada",
          "Bangladesh",
          "French Southern Territories",
          "Bahrain",
          "Luxembourg",
          "Mauritius",
          "Namibia",
          "Samoa",
          "Jamaica",
          "Cocos (Keeling) Islands",
          "Guadeloupe",
          "Guinea-Bissau",
          "Myanmar",
          "Czech Republic",
          "Albania",
          "Tonga",
          "Tanzania",
          "Montenegro",
          "Cameroon",
          "Gabon",
          "Antarctica (the territory South of 60 deg S)",
          "Cuba",
          "Israel",
          "Martinique",
          "Iraq",
          "Trinidad and Tobago",
          "Eritrea",
          "Mozambique",
          "Marshall Islands",
          "Greenland",
          "Burundi",
          "Russian Federation",
          "Lebanon",
          "Belgium",
          "Cyprus",
          "Afghanistan",
          "Uganda",
          "Nauru",
          "Equatorial Guinea",
          "Kyrgyz Republic",
          "Malaysia",
          "San Marino",
          "British Virgin Islands"
         ],
         "xaxis": "x",
         "y": {
          "bdata": "QxVBFTALKAsfCxMLEQsPCw4LBAv/Cv8K/gr9CvsK+wr5CvgK9QryCu8K7QrsCusK6wrmCuUK5QrjCuMK3greCt0K2grZCtgK2ArXCtcK1grWCtYK1ArTCtIK0QrQCtAK0ArPCs0KzQrMCswKywrLCskKyArICsgKxwrHCsUKxQrECsQKwwrDCsMKwwrCCsIKwgrACsAKvwq/Cr8KvQq9Cr0KvAq7CrsKugq4CrgKuAq3CrcKtgq1CrQKswqzCrMKswqxCrAKsAqwCrAKsAqvCq8KrgqtCqwKrAqrCqoKqQqpCqcKpwqmCqYKpgqkCqQKpAqjCqIKoAqfCp8KnwqfCp4KnQqcCpwKnAqcCpwKmwqaCpoKmQqZCpcKlgqWCpYKlgqVCpUKlAqUCpMKkwqSCpIKkgqSCpEKkAqPCo8KjQqMCowKiwqLCosKigqKCokKiQqHCocKhwqHCoYKhgqDCoIKggqBCoEKgAp9CnwKfAp8CnwKewp7CnoKegp4CncKdwp2CnYKdgp2CnYKdQpzCnMKcApsCmsKagppCmgKZwpnCmcKZgplCmUKZQpkCmQKYwpiCmEKYApeCl4KXQpdClsKWQpVClEKUQpQCk4KTQpLCksKSgpKCkkKRwpFCkEKPwo0CicK",
          "dtype": "i2"
         },
         "yaxis": "y"
        }
       ],
       "layout": {
        "barmode": "relative",
        "height": 500,
        "legend": {
         "tracegroupgap": 0
        },
        "template": {
         "data": {
          "bar": [
           {
            "error_x": {
             "color": "#2a3f5f"
            },
            "error_y": {
             "color": "#2a3f5f"
            },
            "marker": {
             "line": {
              "color": "#E5ECF6",
              "width": 0.5
             },
             "pattern": {
              "fillmode": "overlay",
              "size": 10,
              "solidity": 0.2
             }
            },
            "type": "bar"
           }
          ],
          "barpolar": [
           {
            "marker": {
             "line": {
              "color": "#E5ECF6",
              "width": 0.5
             },
             "pattern": {
              "fillmode": "overlay",
              "size": 10,
              "solidity": 0.2
             }
            },
            "type": "barpolar"
           }
          ],
          "carpet": [
           {
            "aaxis": {
             "endlinecolor": "#2a3f5f",
             "gridcolor": "white",
             "linecolor": "white",
             "minorgridcolor": "white",
             "startlinecolor": "#2a3f5f"
            },
            "baxis": {
             "endlinecolor": "#2a3f5f",
             "gridcolor": "white",
             "linecolor": "white",
             "minorgridcolor": "white",
             "startlinecolor": "#2a3f5f"
            },
            "type": "carpet"
           }
          ],
          "choropleth": [
           {
            "colorbar": {
             "outlinewidth": 0,
             "ticks": ""
            },
            "type": "choropleth"
           }
          ],
          "contour": [
           {
            "colorbar": {
             "outlinewidth": 0,
             "ticks": ""
            },
            "colorscale": [
             [
              0,
              "#0d0887"
             ],
             [
              0.1111111111111111,
              "#46039f"
             ],
             [
              0.2222222222222222,
              "#7201a8"
             ],
             [
              0.3333333333333333,
              "#9c179e"
             ],
             [
              0.4444444444444444,
              "#bd3786"
             ],
             [
              0.5555555555555556,
              "#d8576b"
             ],
             [
              0.6666666666666666,
              "#ed7953"
             ],
             [
              0.7777777777777778,
              "#fb9f3a"
             ],
             [
              0.8888888888888888,
              "#fdca26"
             ],
             [
              1,
              "#f0f921"
             ]
            ],
            "type": "contour"
           }
          ],
          "contourcarpet": [
           {
            "colorbar": {
             "outlinewidth": 0,
             "ticks": ""
            },
            "type": "contourcarpet"
           }
          ],
          "heatmap": [
           {
            "colorbar": {
             "outlinewidth": 0,
             "ticks": ""
            },
            "colorscale": [
             [
              0,
              "#0d0887"
             ],
             [
              0.1111111111111111,
              "#46039f"
             ],
             [
              0.2222222222222222,
              "#7201a8"
             ],
             [
              0.3333333333333333,
              "#9c179e"
             ],
             [
              0.4444444444444444,
              "#bd3786"
             ],
             [
              0.5555555555555556,
              "#d8576b"
             ],
             [
              0.6666666666666666,
              "#ed7953"
             ],
             [
              0.7777777777777778,
              "#fb9f3a"
             ],
             [
              0.8888888888888888,
              "#fdca26"
             ],
             [
              1,
              "#f0f921"
             ]
            ],
            "type": "heatmap"
           }
          ],
          "histogram": [
           {
            "marker": {
             "pattern": {
              "fillmode": "overlay",
              "size": 10,
              "solidity": 0.2
             }
            },
            "type": "histogram"
           }
          ],
          "histogram2d": [
           {
            "colorbar": {
             "outlinewidth": 0,
             "ticks": ""
            },
            "colorscale": [
             [
              0,
              "#0d0887"
             ],
             [
              0.1111111111111111,
              "#46039f"
             ],
             [
              0.2222222222222222,
              "#7201a8"
             ],
             [
              0.3333333333333333,
              "#9c179e"
             ],
             [
              0.4444444444444444,
              "#bd3786"
             ],
             [
              0.5555555555555556,
              "#d8576b"
             ],
             [
              0.6666666666666666,
              "#ed7953"
             ],
             [
              0.7777777777777778,
              "#fb9f3a"
             ],
             [
              0.8888888888888888,
              "#fdca26"
             ],
             [
              1,
              "#f0f921"
             ]
            ],
            "type": "histogram2d"
           }
          ],
          "histogram2dcontour": [
           {
            "colorbar": {
             "outlinewidth": 0,
             "ticks": ""
            },
            "colorscale": [
             [
              0,
              "#0d0887"
             ],
             [
              0.1111111111111111,
              "#46039f"
             ],
             [
              0.2222222222222222,
              "#7201a8"
             ],
             [
              0.3333333333333333,
              "#9c179e"
             ],
             [
              0.4444444444444444,
              "#bd3786"
             ],
             [
              0.5555555555555556,
              "#d8576b"
             ],
             [
              0.6666666666666666,
              "#ed7953"
             ],
             [
              0.7777777777777778,
              "#fb9f3a"
             ],
             [
              0.8888888888888888,
              "#fdca26"
             ],
             [
              1,
              "#f0f921"
             ]
            ],
            "type": "histogram2dcontour"
           }
          ],
          "mesh3d": [
           {
            "colorbar": {
             "outlinewidth": 0,
             "ticks": ""
            },
            "type": "mesh3d"
           }
          ],
          "parcoords": [
           {
            "line": {
             "colorbar": {
              "outlinewidth": 0,
              "ticks": ""
             }
            },
            "type": "parcoords"
           }
          ],
          "pie": [
           {
            "automargin": true,
            "type": "pie"
           }
          ],
          "scatter": [
           {
            "fillpattern": {
             "fillmode": "overlay",
             "size": 10,
             "solidity": 0.2
            },
            "type": "scatter"
           }
          ],
          "scatter3d": [
           {
            "line": {
             "colorbar": {
              "outlinewidth": 0,
              "ticks": ""
             }
            },
            "marker": {
             "colorbar": {
              "outlinewidth": 0,
              "ticks": ""
             }
            },
            "type": "scatter3d"
           }
          ],
          "scattercarpet": [
           {
            "marker": {
             "colorbar": {
              "outlinewidth": 0,
              "ticks": ""
             }
            },
            "type": "scattercarpet"
           }
          ],
          "scattergeo": [
           {
            "marker": {
             "colorbar": {
              "outlinewidth": 0,
              "ticks": ""
             }
            },
            "type": "scattergeo"
           }
          ],
          "scattergl": [
           {
            "marker": {
             "colorbar": {
              "outlinewidth": 0,
              "ticks": ""
             }
            },
            "type": "scattergl"
           }
          ],
          "scattermap": [
           {
            "marker": {
             "colorbar": {
              "outlinewidth": 0,
              "ticks": ""
             }
            },
            "type": "scattermap"
           }
          ],
          "scattermapbox": [
           {
            "marker": {
             "colorbar": {
              "outlinewidth": 0,
              "ticks": ""
             }
            },
            "type": "scattermapbox"
           }
          ],
          "scatterpolar": [
           {
            "marker": {
             "colorbar": {
              "outlinewidth": 0,
              "ticks": ""
             }
            },
            "type": "scatterpolar"
           }
          ],
          "scatterpolargl": [
           {
            "marker": {
             "colorbar": {
              "outlinewidth": 0,
              "ticks": ""
             }
            },
            "type": "scatterpolargl"
           }
          ],
          "scatterternary": [
           {
            "marker": {
             "colorbar": {
              "outlinewidth": 0,
              "ticks": ""
             }
            },
            "type": "scatterternary"
           }
          ],
          "surface": [
           {
            "colorbar": {
             "outlinewidth": 0,
             "ticks": ""
            },
            "colorscale": [
             [
              0,
              "#0d0887"
             ],
             [
              0.1111111111111111,
              "#46039f"
             ],
             [
              0.2222222222222222,
              "#7201a8"
             ],
             [
              0.3333333333333333,
              "#9c179e"
             ],
             [
              0.4444444444444444,
              "#bd3786"
             ],
             [
              0.5555555555555556,
              "#d8576b"
             ],
             [
              0.6666666666666666,
              "#ed7953"
             ],
             [
              0.7777777777777778,
              "#fb9f3a"
             ],
             [
              0.8888888888888888,
              "#fdca26"
             ],
             [
              1,
              "#f0f921"
             ]
            ],
            "type": "surface"
           }
          ],
          "table": [
           {
            "cells": {
             "fill": {
              "color": "#EBF0F8"
             },
             "line": {
              "color": "white"
             }
            },
            "header": {
             "fill": {
              "color": "#C8D4E3"
             },
             "line": {
              "color": "white"
             }
            },
            "type": "table"
           }
          ]
         },
         "layout": {
          "annotationdefaults": {
           "arrowcolor": "#2a3f5f",
           "arrowhead": 0,
           "arrowwidth": 1
          },
          "autotypenumbers": "strict",
          "coloraxis": {
           "colorbar": {
            "outlinewidth": 0,
            "ticks": ""
           }
          },
          "colorscale": {
           "diverging": [
            [
             0,
             "#8e0152"
            ],
            [
             0.1,
             "#c51b7d"
            ],
            [
             0.2,
             "#de77ae"
            ],
            [
             0.3,
             "#f1b6da"
            ],
            [
             0.4,
             "#fde0ef"
            ],
            [
             0.5,
             "#f7f7f7"
            ],
            [
             0.6,
             "#e6f5d0"
            ],
            [
             0.7,
             "#b8e186"
            ],
            [
             0.8,
             "#7fbc41"
            ],
            [
             0.9,
             "#4d9221"
            ],
            [
             1,
             "#276419"
            ]
           ],
           "sequential": [
            [
             0,
             "#0d0887"
            ],
            [
             0.1111111111111111,
             "#46039f"
            ],
            [
             0.2222222222222222,
             "#7201a8"
            ],
            [
             0.3333333333333333,
             "#9c179e"
            ],
            [
             0.4444444444444444,
             "#bd3786"
            ],
            [
             0.5555555555555556,
             "#d8576b"
            ],
            [
             0.6666666666666666,
             "#ed7953"
            ],
            [
             0.7777777777777778,
             "#fb9f3a"
            ],
            [
             0.8888888888888888,
             "#fdca26"
            ],
            [
             1,
             "#f0f921"
            ]
           ],
           "sequentialminus": [
            [
             0,
             "#0d0887"
            ],
            [
             0.1111111111111111,
             "#46039f"
            ],
            [
             0.2222222222222222,
             "#7201a8"
            ],
            [
             0.3333333333333333,
             "#9c179e"
            ],
            [
             0.4444444444444444,
             "#bd3786"
            ],
            [
             0.5555555555555556,
             "#d8576b"
            ],
            [
             0.6666666666666666,
             "#ed7953"
            ],
            [
             0.7777777777777778,
             "#fb9f3a"
            ],
            [
             0.8888888888888888,
             "#fdca26"
            ],
            [
             1,
             "#f0f921"
            ]
           ]
          },
          "colorway": [
           "#636efa",
           "#EF553B",
           "#00cc96",
           "#ab63fa",
           "#FFA15A",
           "#19d3f3",
           "#FF6692",
           "#B6E880",
           "#FF97FF",
           "#FECB52"
          ],
          "font": {
           "color": "#2a3f5f"
          },
          "geo": {
           "bgcolor": "white",
           "lakecolor": "white",
           "landcolor": "#E5ECF6",
           "showlakes": true,
           "showland": true,
           "subunitcolor": "white"
          },
          "hoverlabel": {
           "align": "left"
          },
          "hovermode": "closest",
          "mapbox": {
           "style": "light"
          },
          "paper_bgcolor": "white",
          "plot_bgcolor": "#E5ECF6",
          "polar": {
           "angularaxis": {
            "gridcolor": "white",
            "linecolor": "white",
            "ticks": ""
           },
           "bgcolor": "#E5ECF6",
           "radialaxis": {
            "gridcolor": "white",
            "linecolor": "white",
            "ticks": ""
           }
          },
          "scene": {
           "xaxis": {
            "backgroundcolor": "#E5ECF6",
            "gridcolor": "white",
            "gridwidth": 2,
            "linecolor": "white",
            "showbackground": true,
            "ticks": "",
            "zerolinecolor": "white"
           },
           "yaxis": {
            "backgroundcolor": "#E5ECF6",
            "gridcolor": "white",
            "gridwidth": 2,
            "linecolor": "white",
            "showbackground": true,
            "ticks": "",
            "zerolinecolor": "white"
           },
           "zaxis": {
            "backgroundcolor": "#E5ECF6",
            "gridcolor": "white",
            "gridwidth": 2,
            "linecolor": "white",
            "showbackground": true,
            "ticks": "",
            "zerolinecolor": "white"
           }
          },
          "shapedefaults": {
           "line": {
            "color": "#2a3f5f"
           }
          },
          "ternary": {
           "aaxis": {
            "gridcolor": "white",
            "linecolor": "white",
            "ticks": ""
           },
           "baxis": {
            "gridcolor": "white",
            "linecolor": "white",
            "ticks": ""
           },
           "bgcolor": "#E5ECF6",
           "caxis": {
            "gridcolor": "white",
            "linecolor": "white",
            "ticks": ""
           }
          },
          "title": {
           "x": 0.05
          },
          "xaxis": {
           "automargin": true,
           "gridcolor": "white",
           "linecolor": "white",
           "ticks": "",
           "title": {
            "standoff": 15
           },
           "zerolinecolor": "white",
           "zerolinewidth": 2
          },
          "yaxis": {
           "automargin": true,
           "gridcolor": "white",
           "linecolor": "white",
           "ticks": "",
           "title": {
            "standoff": 15
           },
           "zerolinecolor": "white",
           "zerolinewidth": 2
          }
         }
        },
        "title": {
         "text": "Répartition des clients par pays"
        },
        "width": 1000,
        "xaxis": {
         "anchor": "y",
         "domain": [
          0,
          1
         ],
         "tickangle": -45,
         "title": {
          "text": "Pays"
         }
        },
        "yaxis": {
         "anchor": "x",
         "domain": [
          0,
          1
         ],
         "title": {
          "text": "Nombre de clients"
         }
        }
       }
      },
      "image/png": "[encoded data removed]"
     },
     "metadata": {},
     "output_type": "display_data"
    }
   ],
   "source": [
    "from plotly.subplots import make_subplots\n",
    "import plotly.graph_objects as go\n",
    "\n",
    "cols = ['gender', 'marital_status', 'employment_status', 'education_level', 'subscription_type', 'age_group']\n",
    "\n",
    "# Paramètres pour afficher en 2 lignes\n",
    "n_cols = 3\n",
    "n_rows = 3\n",
    "\n",
    "fig = make_subplots(rows=n_rows, cols=n_cols, subplot_titles=cols)\n",
    "\n",
    "for idx, col in enumerate(cols):\n",
    "    row = idx // n_cols + 1  # Ligne actuelle (1-based)\n",
    "    col_position = idx % n_cols + 1  # Colonne actuelle (1-based)\n",
    "    \n",
    "    fig.add_trace(\n",
    "        go.Bar(\n",
    "            x=X_train[col].value_counts().index,\n",
    "            y=X_train[col].value_counts(),\n",
    "            name=col,\n",
    "            text=[f\"{val}%\" for val in (X_train[col].value_counts(normalize=True) * 100).round(2)],\n",
    "            textposition='auto'\n",
    "        ),\n",
    "        row=row, col=col_position\n",
    "    )\n",
    "    fig.update_xaxes(showgrid=False, row=row, col=col_position)\n",
    "    fig.update_yaxes(showgrid=False, row=row, col=col_position)\n",
    "\n",
    "fig.update_layout(height=800, width=1000, showlegend=False)\n",
    "fig.show()\n",
    "\n",
    "\n",
    "print(\"\\n\")\n",
    "\n",
    "\n",
    "# Comptage des occurrences par pays\n",
    "country_counts = X_train['country'].value_counts().reset_index()\n",
    "country_counts.columns = ['country', 'count']\n",
    "\n",
    "# Diagramme à barres\n",
    "fig = px.bar(\n",
    "    country_counts,\n",
    "    x='country',\n",
    "    y='count',\n",
    "    title='Répartition des clients par pays',\n",
    "    labels={'count': 'Nombre de clients', 'country': 'Pays'},\n",
    "    text='count'\n",
    ")\n",
    "\n",
    "# Mise à jour : texte, angle, taille du graphique\n",
    "fig.update_traces(textposition='outside')\n",
    "fig.update_layout(\n",
    "    xaxis_tickangle=-45,\n",
    "    width=1000,  # Largeur du graphe augmentée\n",
    "    height=500   # Optionnel : hauteur personnalisée\n",
    ")\n",
    "\n",
    "fig.show()"
   ]
  },
  {
   "cell_type": "code",
   "execution_count": 31,
   "id": "1b33dc91-956c-4cc9-a6e1-c034813495d1",
   "metadata": {},
   "outputs": [
    {
     "name": "stdout",
     "output_type": "stream",
     "text": [
      "<class 'pandas.core.frame.DataFrame'>\n",
      "Index: 667179 entries, 501160 to 929094\n",
      "Data columns (total 12 columns):\n",
      " #   Column              Non-Null Count   Dtype  \n",
      "---  ------              --------------   -----  \n",
      " 0   gender              667179 non-null  object \n",
      " 1   marital_status      667179 non-null  object \n",
      " 2   employment_status   667179 non-null  object \n",
      " 3   education_level     667179 non-null  object \n",
      " 4   annual_income       667179 non-null  float64\n",
      " 5   number_of_children  667179 non-null  int64  \n",
      " 6   country             667179 non-null  object \n",
      " 7   subscription_type   667179 non-null  object \n",
      " 8   age_group           667179 non-null  object \n",
      " 9   children_per_age    667179 non-null  float64\n",
      " 10  log_annual_income   667179 non-null  float64\n",
      " 11  account_status      667179 non-null  object \n",
      "dtypes: float64(3), int64(1), object(8)\n",
      "memory usage: 66.2+ MB\n"
     ]
    }
   ],
   "source": [
    "# On fusionne les données train \n",
    "df_train_cleaned = X_train.copy()\n",
    "df_train_cleaned['account_status'] = y_train\n",
    "# Sauvegarde dans data/\n",
    "df_train_cleaned.to_csv(\"df_train_cleaned.csv\", index=False)\n",
    "\n",
    "df_train_cleaned.info()"
   ]
  },
  {
   "cell_type": "code",
   "execution_count": 32,
   "id": "57873f40-4fa5-42ee-afa3-69991dec58ca",
   "metadata": {},
   "outputs": [
    {
     "name": "stdout",
     "output_type": "stream",
     "text": [
      "<class 'pandas.core.frame.DataFrame'>\n",
      "Index: 167049 entries, 884729 to 483739\n",
      "Data columns (total 12 columns):\n",
      " #   Column              Non-Null Count   Dtype  \n",
      "---  ------              --------------   -----  \n",
      " 0   gender              167049 non-null  object \n",
      " 1   marital_status      167049 non-null  object \n",
      " 2   employment_status   167049 non-null  object \n",
      " 3   education_level     167049 non-null  object \n",
      " 4   annual_income       167049 non-null  float64\n",
      " 5   number_of_children  167049 non-null  int64  \n",
      " 6   country             167049 non-null  object \n",
      " 7   subscription_type   167049 non-null  object \n",
      " 8   age_group           167049 non-null  object \n",
      " 9   children_per_age    167049 non-null  float64\n",
      " 10  log_annual_income   167049 non-null  float64\n",
      " 11  account_status      167049 non-null  object \n",
      "dtypes: float64(3), int64(1), object(8)\n",
      "memory usage: 16.6+ MB\n"
     ]
    }
   ],
   "source": [
    "# On fusionne les données train \n",
    "df_test_cleaned = X_test.copy()\n",
    "df_test_cleaned['account_status'] = y_test\n",
    "\n",
    "df_test_cleaned.to_csv(\"df_test_cleaned.csv\", index=False)\n",
    "\n",
    "df_test_cleaned.info()"
   ]
  },
  {
   "cell_type": "code",
   "execution_count": null,
   "id": "a975d13d-be10-42e3-bdd3-4a5028480305",
   "metadata": {},
   "outputs": [],
   "source": []
  },
  {
   "cell_type": "code",
   "execution_count": null,
   "id": "e7fcbc6a-517d-4ebd-a76a-2e4c3ef232ea",
   "metadata": {},
   "outputs": [],
   "source": []
  }
 ],
 "metadata": {
  "kernelspec": {
   "display_name": "Python 3.13 (RAG)",
   "language": "python",
   "name": "rag_env"
  },
  "language_info": {
   "codemirror_mode": {
    "name": "ipython",
    "version": 3
   },
   "file_extension": ".py",
   "mimetype": "text/x-python",
   "name": "python",
   "nbconvert_exporter": "python",
   "pygments_lexer": "ipython3",
   "version": "3.13.7"
  }
 },
 "nbformat": 4,
 "nbformat_minor": 5
}
