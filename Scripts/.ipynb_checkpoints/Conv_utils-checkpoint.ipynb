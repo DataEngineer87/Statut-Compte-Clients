{
 "cells": [
  {
   "cell_type": "markdown",
   "id": "48a4f2d4-ed76-4848-93e5-bc80da0f68bf",
   "metadata": {},
   "source": [
    "# Convertir le notebook Fonction_utils en script Python¶"
   ]
  },
  {
   "cell_type": "code",
   "execution_count": null,
   "id": "0835f4a0-9a69-4e6d-a5b9-9b5240d21546",
   "metadata": {},
   "outputs": [],
   "source": [
    "import nbformat\n",
    "from nbconvert import PythonExporter\n",
    "import os\n",
    "\n",
    "# Définition des chemins \n",
    "notebook_path = \"/home/sacko/Documents/PredictionStatutCompte/Scripts/data_processing.ipynb\"\n",
    "script_path = \"//home/sacko/Documents/PredictionStatutCompte/Scripts/data_processing.ipynb\"\n",
    "\n",
    "# Fonction pour convertir le notebook en script Python\n",
    "def convert_notebook_to_script(notebook_path, script_path):\n",
    "    with open(notebook_path) as f:\n",
    "        nb = nbformat.read(f, as_version=4)\n",
    "    exporter = PythonExporter()\n",
    "    script, _ = exporter.from_notebook_node(nb)\n",
    "\n",
    "    with open(script_path, 'w') as f:\n",
    "        f.write(script)\n",
    "\n",
    "# Exécuter la conversion\n",
    "convert_notebook_to_script(notebook_path, script_path)\n",
    "print(f\"Le notebook {notebook_path} a été converti en script Python.\")"
   ]
  }
 ],
 "metadata": {
  "kernelspec": {
   "display_name": "Python 3.13 (RAG)",
   "language": "python",
   "name": "rag_env"
  },
  "language_info": {
   "codemirror_mode": {
    "name": "ipython",
    "version": 3
   },
   "file_extension": ".py",
   "mimetype": "text/x-python",
   "name": "python",
   "nbconvert_exporter": "python",
   "pygments_lexer": "ipython3",
   "version": "3.13.7"
  }
 },
 "nbformat": 4,
 "nbformat_minor": 5
}
