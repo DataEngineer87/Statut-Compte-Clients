{
 "cells": [
  {
   "cell_type": "code",
   "execution_count": 4,
   "id": "c9e72b30-5614-41de-b663-47453b8fbd23",
   "metadata": {},
   "outputs": [],
   "source": [
    "import os\n",
    "import pandas as pd\n",
    "import shap\n",
    "import joblib"
   ]
  },
  {
   "cell_type": "code",
   "execution_count": 5,
   "id": "0b644c41-896e-4e30-aed7-1692d86e00bc",
   "metadata": {},
   "outputs": [],
   "source": [
    "# Charger le modèle\n",
    "model = joblib.load(\"/home/sacko/Documents/ProjetAchats/models/model.joblib\")\n",
    "\n",
    "# Données d'entrainement\n",
    "df_train_cleaned = pd.read_csv(\"/home/sacko/Documents/ProjetAchats/Donnees/df_train_cleaned.csv\")\n",
    "\n",
    "# Charger les données de test\n",
    "df_test_cleaned = pd.read_csv(\"/home/sacko/Documents/ProjetAchats/Donnees/df_test_cleaned.csv\")"
   ]
  },
  {
   "cell_type": "code",
   "execution_count": 6,
   "id": "a24b8606-d28f-460e-bb82-db8feae9dca8",
   "metadata": {},
   "outputs": [],
   "source": [
    "# Séparation des variables explicatives et cible\n",
    "X_train = df_train_cleaned.drop([\"account_status\"], axis=1)\n",
    "y_train = df_train_cleaned[\"account_status\"]\n",
    "\n",
    "X_test = df_test_cleaned.drop([\"account_status\"], axis=1)\n",
    "y_test = df_test_cleaned[\"account_status\"]\n",
    "\n",
    "# Fonction de target encoding\n",
    "def target_encode_smooth(df, col, target, alpha=40):\n",
    "    df_copy = df[[col, target]].copy()\n",
    "    classes = df[target].unique()\n",
    "    global_probas = df[target].value_counts(normalize=True)\n",
    "\n",
    "    stats = df_copy.groupby(col)[target].value_counts().unstack().fillna(0)\n",
    "    totals = stats.sum(axis=1)\n",
    "\n",
    "    encoded = pd.DataFrame(index=df.index)\n",
    "\n",
    "    for cls in classes:\n",
    "        n_cy = stats[cls] if cls in stats.columns else 0\n",
    "        p_y = global_probas[cls]\n",
    "        smooth = (n_cy + alpha * p_y) / (totals + alpha)\n",
    "        encoded[f\"{col}_enc_{cls}\"] = df[col].map(smooth)\n",
    "\n",
    "    return encoded\n",
    "\n",
    " # Fonction d'encodage des variables catégorielles nominales en variables binaires (one-hot encoding) \n",
    "def encode_features(df, target_col='account_status', alpha=10):\n",
    "    df = df.copy() # Copie du DataFrame pour éviter de modifier l'original\n",
    "    dummy_cols = ['gender', 'marital_status', 'employment_status', \n",
    "                  'education_level', 'subscription_type', 'age_group']\n",
    "    \n",
    "    df_dummies = pd.get_dummies(df[dummy_cols], prefix=dummy_cols)\n",
    "    country_enc = target_encode_smooth(df, col='country', target=target_col, alpha=alpha)\n",
    "\n",
    "    numeric_cols = df.drop(columns=dummy_cols + ['country', target_col]).copy()\n",
    "    numeric_cols = numeric_cols.astype({col: 'float64' for col in numeric_cols.select_dtypes('int').columns}) \n",
    "\n",
    "    final_df = pd.concat([df_dummies, country_enc, numeric_cols], axis=1)\n",
    "    final_df[target_col] = df[target_col]\n",
    "    \n",
    "    return final_df\n",
    "\n",
    "\n",
    "# Préparation des dossiers\n",
    "os.makedirs(\"artifacts\", exist_ok=True)\n",
    "os.makedirs(\"reports\", exist_ok=True)\n",
    "\n",
    "# Encodage des données\n",
    "train_encoded = encode_features(X_train.assign(account_status=y_train), target_col='account_status')\n",
    "test_encoded = encode_features(X_test.assign(account_status=y_test), target_col='account_status')\n",
    "\n",
    "X_train_encoded = train_encoded.drop(columns='account_status')\n",
    "y_train_encoded = train_encoded['account_status']\n",
    "X_test_encoded = test_encoded.drop(columns='account_status')\n",
    "y_test_encoded = test_encoded['account_status']\n",
    "\n",
    "X_test_encoded = X_test_encoded.reindex(columns=X_train_encoded.columns, fill_value=0)"
   ]
  },
  {
   "cell_type": "code",
   "execution_count": null,
   "id": "a6046242-0375-41a7-b269-0140351f1f2a",
   "metadata": {},
   "outputs": [],
   "source": [
    "# Création d'explicabilité \n",
    "explainer = shap.TreeExplainer(model)\n",
    "\n",
    "# Calcul des valeurs SHAP\n",
    "shap_values = explainer.shap_values(X_test_encoded)\n",
    "\n",
    "# Visualisualisation\n",
    "shap.summary_plot(shap_values, X_test_encoded)"
   ]
  }
 ],
 "metadata": {
  "kernelspec": {
   "display_name": "Python (evidently_env)",
   "language": "python",
   "name": "evidently_env"
  },
  "language_info": {
   "codemirror_mode": {
    "name": "ipython",
    "version": 3
   },
   "file_extension": ".py",
   "mimetype": "text/x-python",
   "name": "python",
   "nbconvert_exporter": "python",
   "pygments_lexer": "ipython3",
   "version": "3.10.18"
  }
 },
 "nbformat": 4,
 "nbformat_minor": 5
}
