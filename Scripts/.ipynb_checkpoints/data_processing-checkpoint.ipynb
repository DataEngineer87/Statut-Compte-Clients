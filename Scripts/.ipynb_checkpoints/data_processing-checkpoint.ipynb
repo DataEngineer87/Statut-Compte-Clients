{
 "cells": [
  {
   "cell_type": "code",
   "execution_count": null,
   "id": "1888f577-b4d7-4e61-8985-5d442f007f0b",
   "metadata": {},
   "outputs": [],
   "source": []
  }
 ],
 "metadata": {
  "kernelspec": {
   "display_name": "Python 3.13 (RAG)",
   "language": "python",
   "name": "rag_env"
  },
  "language_info": {
   "codemirror_mode": {
    "name": "ipython",
    "version": 3
   },
   "file_extension": ".py",
   "mimetype": "text/x-python",
   "name": "python",
   "nbconvert_exporter": "python",
   "pygments_lexer": "ipython3",
   "version": "3.13.7"
  }
 },
 "nbformat": 4,
 "nbformat_minor": 5
}
