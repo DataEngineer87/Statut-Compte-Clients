{
 "cells": [
  {
   "cell_type": "markdown",
   "id": "3e430980-0f48-4933-9bd9-64d7a6136f2a",
   "metadata": {},
   "source": [
    "# Modélisation"
   ]
  },
  {
   "cell_type": "code",
   "execution_count": 1,
   "id": "41a5194b-eda0-4151-828c-9ec240c78df6",
   "metadata": {},
   "outputs": [
    {
     "name": "stderr",
     "output_type": "stream",
     "text": [
      "2025/10/10 19:57:45 INFO mlflow.tracking.fluent: Experiment with name 'account_status_prediction' does not exist. Creating a new experiment.\n",
      "2025/10/10 20:00:04 WARNING mlflow.models.model: `artifact_path` is deprecated. Please use `name` instead.\n",
      "Successfully registered model 'account_status_rf'.\n",
      "Created version '1' of model 'account_status_rf'.\n"
     ]
    }
   ],
   "source": [
    "import os\n",
    "import json\n",
    "import pandas as pd\n",
    "import joblib\n",
    "import mlflow\n",
    "import mlflow.sklearn\n",
    "from sklearn.ensemble import RandomForestClassifier\n",
    "from sklearn.metrics import classification_report\n",
    "from mlflow.models.signature import infer_signature\n",
    "from data_processing import encode_features\n",
    "\n",
    "# Préparation dossiers\n",
    "os.makedirs(\"artifacts\", exist_ok=True)\n",
    "os.makedirs(\"reports\", exist_ok=True)\n",
    "\n",
    "# Chargement des données\n",
    "df_train = pd.read_csv(\"/home/sacko/Documents/PredictionStatutCompte/Donnees/df_train_cleaned.csv\")\n",
    "df_test = pd.read_csv(\"/home/sacko/Documents/PredictionStatutCompte/Donnees/df_test_cleaned.csv\")\n",
    "\n",
    "X_train = df_train.drop(\"account_status\", axis=1)\n",
    "y_train = df_train[\"account_status\"]\n",
    "X_test = df_test.drop(\"account_status\", axis=1)\n",
    "y_test = df_test[\"account_status\"]\n",
    "\n",
    "# Encodage\n",
    "train_encoded = encode_features(X_train.assign(account_status=y_train))\n",
    "test_encoded = encode_features(X_test.assign(account_status=y_test))\n",
    "\n",
    "X_train_encoded = train_encoded.drop(\"account_status\", axis=1)\n",
    "y_train_encoded = train_encoded[\"account_status\"]\n",
    "X_test_encoded = test_encoded.drop(\"account_status\", axis=1)\n",
    "y_test_encoded = test_encoded[\"account_status\"]\n",
    "\n",
    "# Alignement colonnes\n",
    "X_test_encoded = X_test_encoded.reindex(columns=X_train_encoded.columns, fill_value=0)\n",
    "\n",
    "# Entraînement et MLflow\n",
    "model = RandomForestClassifier(n_estimators=100, random_state=42)\n",
    "\n",
    "mlflow.set_tracking_uri(\"file://\" + os.path.abspath(\"/home/sacko/Documents/PredictionStatutCompte/Scripts/mlruns\"))\n",
    "mlflow.set_experiment(\"account_status_prediction\")\n",
    "\n",
    "with mlflow.start_run():\n",
    "    model.fit(X_train_encoded, y_train_encoded)\n",
    "    preds = model.predict(X_test_encoded)\n",
    "    report = classification_report(y_test_encoded, preds, output_dict=True)\n",
    "    acc = report['accuracy']\n",
    "\n",
    "    # Sauvegarde rapport\n",
    "    with open(\"reports/evaluation_report.json\", \"w\") as f:\n",
    "        json.dump(report, f, indent=4)\n",
    "    mlflow.log_artifact(\"reports/evaluation_report.json\")\n",
    "\n",
    "    # Signature et modèle MLflow\n",
    "    input_example = X_train_encoded.iloc[:1]\n",
    "    signature = infer_signature(X_train_encoded, model.predict(X_train_encoded))\n",
    "\n",
    "    mlflow.log_param(\"model_type\", \"RandomForest\")\n",
    "    mlflow.log_metric(\"accuracy\", acc)\n",
    "    mlflow.sklearn.log_model(\n",
    "        sk_model=model,\n",
    "        artifact_path=\"model\",\n",
    "        input_example=input_example,\n",
    "        signature=signature,\n",
    "        registered_model_name=\"account_status_rf\"\n",
    "    )\n",
    "\n",
    "    # Sauvegarde modèle pour FastAPI\n",
    "    joblib.dump(model, \"artifacts/model.joblib\")"
   ]
  },
  {
   "cell_type": "code",
   "execution_count": null,
   "id": "bb506b1b",
   "metadata": {},
   "outputs": [],
   "source": []
  },
  {
   "cell_type": "code",
   "execution_count": null,
   "id": "08c71141-d7ea-4de5-9e85-d0dd72ae745c",
   "metadata": {},
   "outputs": [],
   "source": []
  }
 ],
 "metadata": {
  "kernelspec": {
   "display_name": "Python 3.13 (RAG)",
   "language": "python",
   "name": "rag_env"
  },
  "language_info": {
   "codemirror_mode": {
    "name": "ipython",
    "version": 3
   },
   "file_extension": ".py",
   "mimetype": "text/x-python",
   "name": "python",
   "nbconvert_exporter": "python",
   "pygments_lexer": "ipython3",
   "version": "3.13.7"
  }
 },
 "nbformat": 4,
 "nbformat_minor": 5
}
