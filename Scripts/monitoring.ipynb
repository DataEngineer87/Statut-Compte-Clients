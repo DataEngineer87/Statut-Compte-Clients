{
 "cells": [
  {
   "cell_type": "markdown",
   "id": "32e31cd4-e934-462a-98b0-651d1d389161",
   "metadata": {},
   "source": [
    "# Mnitoring"
   ]
  },
  {
   "cell_type": "code",
   "execution_count": 3,
   "id": "e474ec2c-b6f4-40f0-a1f2-1c3657699c6d",
   "metadata": {
    "scrolled": true
   },
   "outputs": [
    {
     "data": {
      "text/html": [
       "\n",
       "        <iframe\n",
       "            width=\"100%\"\n",
       "            height=\"600\"\n",
       "            src=\"rapport_drift.html\"\n",
       "            frameborder=\"0\"\n",
       "            allowfullscreen\n",
       "            \n",
       "        ></iframe>\n",
       "        "
      ],
      "text/plain": [
       "<IPython.lib.display.IFrame at 0x7538df5db9a0>"
      ]
     },
     "execution_count": 3,
     "metadata": {},
     "output_type": "execute_result"
    }
   ],
   "source": [
    "import pandas as pd \n",
    "from evidently.metric_preset import ClassificationPreset, DataDriftPreset\n",
    "from evidently.report import Report\n",
    "from IPython.display import IFrame\n",
    "#import train_model\n",
    "\n",
    "# Définition d'une fonction utilitaire pour éviter KeyError\n",
    "def drop_column_if_exists(df, col):\n",
    "    if col in df.columns:\n",
    "        return df.drop(columns=col)\n",
    "    return df\n",
    "\n",
    "# Fonction de target encoding\n",
    "def target_encode_smooth(df, col, target, alpha=40):\n",
    "    df_copy = df[[col, target]].copy()\n",
    "    classes = df[target].unique()\n",
    "    global_probas = df[target].value_counts(normalize=True)\n",
    "\n",
    "    stats = df_copy.groupby(col)[target].value_counts().unstack().fillna(0)\n",
    "    totals = stats.sum(axis=1)\n",
    "\n",
    "    encoded = pd.DataFrame(index=df.index)\n",
    "\n",
    "    for cls in classes:\n",
    "        n_cy = stats[cls] if cls in stats.columns else 0\n",
    "        p_y = global_probas[cls]\n",
    "        smooth = (n_cy + alpha * p_y) / (totals + alpha)\n",
    "        encoded[f\"{col}_enc_{cls}\"] = df[col].map(smooth)\n",
    "\n",
    "    return encoded\n",
    "\n",
    "\n",
    "def encode_features(df, target_col='account_status', alpha=10):\n",
    "    df = df.copy()\n",
    "    dummy_cols = ['gender', 'marital_status', 'employment_status', \n",
    "                  'education_level', 'subscription_type', 'age_group']\n",
    "    \n",
    "    df_dummies = pd.get_dummies(df[dummy_cols], prefix=dummy_cols)\n",
    "    country_enc = target_encode_smooth(df, col='country', target=target_col, alpha=alpha)\n",
    "\n",
    "    numeric_cols = df.drop(columns=dummy_cols + ['country', target_col]).copy()\n",
    "    numeric_cols = numeric_cols.astype({col: 'float64' for col in numeric_cols.select_dtypes('int').columns})\n",
    "\n",
    "    final_df = pd.concat([df_dummies, country_enc, numeric_cols], axis=1)\n",
    "    final_df[target_col] = df[target_col]\n",
    "    \n",
    "    return final_df\n",
    "\n",
    "# Chargement des données brutes\n",
    "ref_raw = pd.read_csv(\"/home/sacko/Documents/ProjetAchats/Donnees/df_train_cleaned.csv\").sample(200, random_state=1)\n",
    "cur_raw = pd.read_csv(\"/home/sacko/Documents/ProjetAchats/Donnees/df_train_cleaned.csv\").sample(200, random_state=42)\n",
    "\n",
    "# Gestion des valeurs manquantes pour account_status (nécessaire pour target encoding)\n",
    "ref_raw['account_status'] = ref_raw['account_status'].fillna('Unknown')\n",
    "cur_raw['account_status'] = cur_raw['account_status'].fillna('Unknown')\n",
    "\n",
    "# Encodage des deux jeux de données\n",
    "ref_encoded = drop_column_if_exists(encode_features(ref_raw, target_col='account_status', alpha=40), 'account_status')\n",
    "cur_encoded = drop_column_if_exists(encode_features(cur_raw, target_col='account_status', alpha=40), 'account_status')\n",
    "\n",
    "# Réalignement des colonnes du jeu courant sur celles de référence\n",
    "cur_encoded = cur_encoded.reindex(columns=ref_encoded.columns, fill_value=0)\n",
    "\n",
    "# Génération du rapport Evidently\n",
    "report = Report(metrics=[DataDriftPreset()])\n",
    "report.run(reference_data=ref_encoded, current_data=cur_encoded)\n",
    "\n",
    "# Sauvegarde et affichage du rapport\n",
    "report.save_html(\"rapport_drift.html\")\n",
    "IFrame(src='rapport_drift.html', width='100%', height=600)"
   ]
  },
  {
   "cell_type": "code",
   "execution_count": null,
   "id": "5da9323e-dd19-43f0-be6a-f02721e818a2",
   "metadata": {},
   "outputs": [],
   "source": []
  }
 ],
 "metadata": {
  "kernelspec": {
   "display_name": "Python (evidently_env)",
   "language": "python",
   "name": "evidently_env"
  },
  "language_info": {
   "codemirror_mode": {
    "name": "ipython",
    "version": 3
   },
   "file_extension": ".py",
   "mimetype": "text/x-python",
   "name": "python",
   "nbconvert_exporter": "python",
   "pygments_lexer": "ipython3",
   "version": "3.10.18"
  }
 },
 "nbformat": 4,
 "nbformat_minor": 5
}
