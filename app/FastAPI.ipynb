{
 "cells": [
  {
   "cell_type": "code",
   "execution_count": 4,
   "id": "54e1ee07-8bfe-43f2-a3a9-1d26a30de9ee",
   "metadata": {},
   "outputs": [],
   "source": [
    "from fastapi import FastAPI, HTTPException\n",
    "from pydantic import BaseModel\n",
    "from typing import Literal\n",
    "import pandas as pd\n",
    "import joblib\n",
    "import os\n",
    "from data_processing import encode_features\n",
    "\n",
    "app = FastAPI(title=\"Account Status Prediction API\")\n",
    "\n",
    "# Chargement du modèle\n",
    "MODEL_PATH = os.path.join(\"artifacts\", \"model.joblib\")\n",
    "model = joblib.load(MODEL_PATH)\n",
    "\n",
    "# Schéma d'entrée\n",
    "class InputData(BaseModel):\n",
    "    gender: Literal[\"Male\", \"Female\"]\n",
    "    marital_status: Literal[\"Married\", \"Single\", \"Divorced\", \"Widowed\"]\n",
    "    employment_status: Literal[\"Employed\", \"Unemployed\", \"Student\", \"Retired\"]\n",
    "    education_level: Literal[\"High School\", \"Bachelor\", \"Master\", \"PhD\"]\n",
    "    subscription_type: Literal[\"Basic\", \"Standard\", \"Premium\"]\n",
    "    age_group: Literal[\"18-24\", \"25-34\", \"35-44\", \"45-54\", \"55+\"]\n",
    "    number_of_children: int\n",
    "    children_per_age: float\n",
    "    log_annual_income: float\n",
    "    country: str\n",
    "\n",
    "@app.get(\"/\")\n",
    "def root():\n",
    "    return {\"message\": \"API de prédiction du statut de compte\"}\n",
    "\n",
    "@app.post(\"/predict\")\n",
    "def predict(data: InputData):\n",
    "    try:\n",
    "        df_input = pd.DataFrame([data.dict()])\n",
    "        df_input['account_status'] = 'Unknown'  # Dummy target pour encodage\n",
    "        encoded = encode_features(df_input, target_col='account_status')\n",
    "        encoded = encoded.drop(columns='account_status')\n",
    "        # Alignement colonnes modèle\n",
    "        encoded = encoded.reindex(columns=model.feature_names_in_, fill_value=0)\n",
    "        pred = model.predict(encoded)[0]\n",
    "        return {\"prediction\": pred}\n",
    "    except Exception as e:\n",
    "        raise HTTPException(status_code=500, detail=str(e))\n"
   ]
  },
  {
   "cell_type": "code",
   "execution_count": null,
   "id": "bcae3b60-93b2-4d12-ad90-9cd2d890d50b",
   "metadata": {},
   "outputs": [],
   "source": []
  }
 ],
 "metadata": {
  "kernelspec": {
   "display_name": "Python 3.13 (RAG)",
   "language": "python",
   "name": "rag_env"
  },
  "language_info": {
   "codemirror_mode": {
    "name": "ipython",
    "version": 3
   },
   "file_extension": ".py",
   "mimetype": "text/x-python",
   "name": "python",
   "nbconvert_exporter": "python",
   "pygments_lexer": "ipython3",
   "version": "3.13.7"
  }
 },
 "nbformat": 4,
 "nbformat_minor": 5
}
