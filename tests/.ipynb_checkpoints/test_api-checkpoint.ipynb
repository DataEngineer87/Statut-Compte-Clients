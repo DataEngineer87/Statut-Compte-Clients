{
 "cells": [
  {
   "cell_type": "code",
   "execution_count": null,
   "id": "a149dc57-c983-4de5-9aa3-2d7910a61478",
   "metadata": {},
   "outputs": [],
   "source": [
    "import pytest\n",
    "from fastapi.testclient import TestClient\n",
    "from app.api import app  # chemin vers ton FastAPI\n",
    "\n",
    "client = TestClient(app)\n",
    "\n",
    "# Données d'exemple valides\n",
    "valid_data = {\n",
    "    \"gender\": \"Male\",\n",
    "    \"marital_status\": \"Single\",\n",
    "    \"employment_status\": \"Employed\",\n",
    "    \"education_level\": \"Bachelor\",\n",
    "    \"subscription_type\": \"Premium\",\n",
    "    \"age_group\": \"35-44\",\n",
    "    \"number_of_children\": 2,\n",
    "    \"children_per_age\": 0.5,\n",
    "    \"log_annual_income\": 10.5,\n",
    "    \"country\": \"France\"\n",
    "}\n",
    "\n",
    "# Données avec erreur volontaire (genre invalide)\n",
    "invalid_data = valid_data.copy()\n",
    "invalid_data[\"gender\"] = \"Unknown\"\n",
    "\n",
    "def test_predict_valid():\n",
    "    \"\"\"Test du endpoint /predict avec des données valides\"\"\"\n",
    "    response = client.post(\"/predict\", json=valid_data)\n",
    "    assert response.status_code == 200\n",
    "    json_resp = response.json()\n",
    "    assert \"prediction\" in json_resp\n",
    "    assert isinstance(json_resp[\"prediction\"], str)\n",
    "\n",
    "def test_predict_invalid():\n",
    "    \"\"\"Test du endpoint /predict avec données invalides\"\"\"\n",
    "    response = client.post(\"/predict\", json=invalid_data)\n",
    "    assert response.status_code == 422  # Pydantic devrait renvoyer une erreur"
   ]
  }
 ],
 "metadata": {
  "kernelspec": {
   "display_name": "Python 3.13 (RAG)",
   "language": "python",
   "name": "rag_env"
  },
  "language_info": {
   "codemirror_mode": {
    "name": "ipython",
    "version": 3
   },
   "file_extension": ".py",
   "mimetype": "text/x-python",
   "name": "python",
   "nbconvert_exporter": "python",
   "pygments_lexer": "ipython3",
   "version": "3.13.7"
  }
 },
 "nbformat": 4,
 "nbformat_minor": 5
}
