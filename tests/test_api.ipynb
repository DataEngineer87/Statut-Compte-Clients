{
 "cells": [
  {
   "cell_type": "code",
   "execution_count": 1,
   "id": "a149dc57-c983-4de5-9aa3-2d7910a61478",
   "metadata": {},
   "outputs": [
    {
     "ename": "NameError",
     "evalue": "name '__file__' is not defined",
     "output_type": "error",
     "traceback": [
      "\u001b[31m---------------------------------------------------------------------------\u001b[39m",
      "\u001b[31mNameError\u001b[39m                                 Traceback (most recent call last)",
      "\u001b[36mCell\u001b[39m\u001b[36m \u001b[39m\u001b[32mIn[1]\u001b[39m\u001b[32m, line 6\u001b[39m\n\u001b[32m      3\u001b[39m \u001b[38;5;28;01mfrom\u001b[39;00m\u001b[38;5;250m \u001b[39m\u001b[34;01mfastapi\u001b[39;00m\u001b[34;01m.\u001b[39;00m\u001b[34;01mtestclient\u001b[39;00m\u001b[38;5;250m \u001b[39m\u001b[38;5;28;01mimport\u001b[39;00m TestClient\n\u001b[32m      5\u001b[39m \u001b[38;5;66;03m# Ajouter le dossier parent au path pour pouvoir importer `app`\u001b[39;00m\n\u001b[32m----> \u001b[39m\u001b[32m6\u001b[39m sys.path.append(os.path.abspath(os.path.join(os.path.dirname(\u001b[34;43m__file__\u001b[39;49m), \u001b[33m\"\u001b[39m\u001b[33m..\u001b[39m\u001b[33m\"\u001b[39m)))\n\u001b[32m      8\u001b[39m \u001b[38;5;28;01mfrom\u001b[39;00m\u001b[38;5;250m \u001b[39m\u001b[34;01mapp\u001b[39;00m\u001b[34;01m.\u001b[39;00m\u001b[34;01mFastAPI\u001b[39;00m\u001b[38;5;250m \u001b[39m\u001b[38;5;28;01mimport\u001b[39;00m app  \u001b[38;5;66;03m# Import correct du fichier app/FastAPI.py\u001b[39;00m\n\u001b[32m     10\u001b[39m client = TestClient(app)\n",
      "\u001b[31mNameError\u001b[39m: name '__file__' is not defined"
     ]
    }
   ],
   "source": [
    "import sys\n",
    "import os\n",
    "from fastapi.testclient import TestClient\n",
    "\n",
    "# Ajouter le dossier parent au path pour pouvoir importer `app`\n",
    "sys.path.append(os.path.abspath(os.path.join(os.path.dirname(__file__), \"..\")))\n",
    "\n",
    "from app.FastAPI import app  # Import correct du fichier app/FastAPI.py\n",
    "\n",
    "client = TestClient(app)\n",
    "\n",
    "def test_predict_endpoint():\n",
    "    \"\"\"Test unitaire du endpoint /predict\"\"\"\n",
    "    data = {\n",
    "        \"gender\": \"Male\",\n",
    "        \"marital_status\": \"Single\",\n",
    "        \"employment_status\": \"Employed\",\n",
    "        \"education_level\": \"Bachelor\",\n",
    "        \"subscription_type\": \"Premium\",\n",
    "        \"age_group\": \"35-44\",\n",
    "        \"number_of_children\": 2,\n",
    "        \"children_per_age\": 0.5,\n",
    "        \"log_annual_income\": 10.5,\n",
    "        \"country\": \"France\"\n",
    "    }\n",
    "    response = client.post(\"/predict\", json=data)\n",
    "    assert response.status_code == 200\n",
    "    assert \"prediction\" in response.json()"
   ]
  },
  {
   "cell_type": "code",
   "execution_count": null,
   "id": "7241cd1a-485d-475a-b752-702e0e439bfe",
   "metadata": {},
   "outputs": [],
   "source": []
  }
 ],
 "metadata": {
  "kernelspec": {
   "display_name": "Python 3.13 (RAG)",
   "language": "python",
   "name": "rag_env"
  },
  "language_info": {
   "codemirror_mode": {
    "name": "ipython",
    "version": 3
   },
   "file_extension": ".py",
   "mimetype": "text/x-python",
   "name": "python",
   "nbconvert_exporter": "python",
   "pygments_lexer": "ipython3",
   "version": "3.13.7"
  }
 },
 "nbformat": 4,
 "nbformat_minor": 5
}
